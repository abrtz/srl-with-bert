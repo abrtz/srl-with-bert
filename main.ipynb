{
  "cells": [
    {
      "cell_type": "markdown",
      "metadata": {
        "id": "EmZ_eppHYdEy"
      },
      "source": [
        "# Semantic role labeling with BERT\n",
        "\n",
        "In this notebook, you'll perform semantic role labeling with BERT, using the Universal Propbank dataset."
      ]
    },
    {
      "cell_type": "markdown",
      "metadata": {
        "id": "2XJQ6KZ5YdE1"
      },
      "source": [
        "## Before you begin\n",
        "\n",
        "### Install libraries\n",
        "\n",
        "Uncomment and run the following cells to install the required pip packages, for example when running the notebook in [colab](https://colab.research.google.com)."
      ]
    },
    {
      "cell_type": "code",
      "execution_count": 1,
      "metadata": {
        "colab": {
          "base_uri": "https://localhost:8080/"
        },
        "id": "pmGtG61HYdE2",
        "outputId": "8198f423-1774-4e92-8f18-3e3af7895fb1"
      },
      "outputs": [],
      "source": [
        "#!pip install datasets\n",
        "#!pip install seqeval\n",
        "#!pip install accelerate==0.21.0\n",
        "#!pip install transformers[torch]\n",
        "#!pip install accelerate -U"
      ]
    },
    {
      "cell_type": "code",
      "execution_count": 2,
      "metadata": {
        "colab": {
          "base_uri": "https://localhost:8080/"
        },
        "id": "95HRgBDhY1Xi",
        "outputId": "74e26323-a2c1-456c-886c-501e16e77c36"
      },
      "outputs": [],
      "source": [
        "#from google.colab import drive\n",
        "#drive.mount('/content/drive')"
      ]
    },
    {
      "cell_type": "markdown",
      "metadata": {
        "id": "XMFENJEVYdE3"
      },
      "source": [
        "### Import libraries"
      ]
    },
    {
      "cell_type": "code",
      "execution_count": 3,
      "metadata": {
        "id": "vDwNetWfYdE3"
      },
      "outputs": [],
      "source": [
        "import time\n",
        "import pandas as pd\n",
        "import transformers\n",
        "import numpy as np\n",
        "from transformers import AutoTokenizer,AutoModelForTokenClassification, TrainingArguments, Trainer, DataCollatorForTokenClassification\n",
        "from datasets import Dataset\n",
        "from utils import read_data_as_sentence,map_labels_in_dataframe,tokenize_and_align_labels,get_label_mapping,get_labels_from_map,load_srl_model,load_dataset,compute_metrics,write_predictions_to_csv,compute_evaluation_metrics_from_csv"
      ]
    },
    {
      "cell_type": "markdown",
      "metadata": {
        "id": "AA7OmWe_YdE4"
      },
      "source": [
        "## Step 1: Preprocess data"
      ]
    },
    {
      "cell_type": "markdown",
      "metadata": {
        "id": "M5TA-F2lYdE5"
      },
      "source": [
        "Before you can train the model, you need to extract sentences from the training, development and test datasets, and preprocess the sentences.\n",
        "\n",
        "To preprocess the datase and save the resulting DataFrame to a file, call the `read_data_as_sentence()` function, including:\n",
        "\n",
        "| Parameter name     | Required | Parameter description |\n",
        "|--------------------|:--------------:|-------------|\n",
        "| *positional 1*                   | ✅️ | The filepath for the CoNNLU dataset. |\n",
        "| *positional 2*                 | ✅ | The filepath to write the preprocessed DataFrame to. |"
      ]
    },
    {
      "cell_type": "code",
      "execution_count": 4,
      "metadata": {
        "id": "vyzGaxOIYdE5"
      },
      "outputs": [],
      "source": [
        "train_data = read_data_as_sentence('data/en_ewt-up-train.conllu', 'data/en_ewt-up-train.preprocessed.csv')\n",
        "dev_data = read_data_as_sentence('data/en_ewt-up-dev.conllu', 'data/en_ewt-up-dev.preprocessed.csv')\n",
        "test_data = read_data_as_sentence('data/en_ewt-up-test.conllu', 'data/en_ewt-up-test.preprocessed.csv')"
      ]
    },
    {
      "cell_type": "markdown",
      "metadata": {
        "id": "61uzoDU4YdE6"
      },
      "source": [
        "The `read_data_as_sentence()` function returns DataFrames, where each row represents a sentence from the dataset passed to the function. Each sentence has been expanded based on its predicates, resulting in multiple copies of the same sentence, each focused on a different predicate.\n",
        "\n",
        "The DataFrame has two columns:\n",
        "\n",
        "- `input_form`: a list of strings, where each string represents a words in the sentence, followed by two special tokens:\n",
        "    1. A special token (`[SEP]`), which denotes the separation between the words of the sentence and the predicate form.\n",
        "    2. The predicate form, which corresponds to the `argument` values for the same row in the DataFrame.\n",
        "- `argument`: a list of strings, representing the arguments associated with each word in the sentence. The length of each list is equal to the number of words in the sentence, plus two additional elements, for the special token and predicate form. The arguments match the predicate appended to the `input_form` for the same row in the DataFrame."
      ]
    },
    {
      "cell_type": "markdown",
      "metadata": {
        "id": "nWnvMr9OYdE6"
      },
      "source": [
        "### Explore the DataFrame\n",
        "\n",
        "To explore the DataFrame, print the head of the preprocessed DataFrame:"
      ]
    },
    {
      "cell_type": "code",
      "execution_count": 5,
      "metadata": {
        "colab": {
          "base_uri": "https://localhost:8080/"
        },
        "id": "7h22qGnpYdE6",
        "outputId": "b181cbb6-5782-45ae-ecf9-2254fa801914"
      },
      "outputs": [
        {
          "name": "stdout",
          "output_type": "stream",
          "text": [
            "<class 'pandas.core.frame.DataFrame'>\n",
            "RangeIndex: 4799 entries, 0 to 4798\n",
            "Data columns (total 2 columns):\n",
            " #   Column      Non-Null Count  Dtype \n",
            "---  ------      --------------  ----- \n",
            " 0   input_form  4799 non-null   object\n",
            " 1   argument    4799 non-null   object\n",
            "dtypes: object(2)\n",
            "memory usage: 75.1+ KB\n",
            "None\n"
          ]
        }
      ],
      "source": [
        "print(test_data.info())"
      ]
    },
    {
      "cell_type": "markdown",
      "metadata": {
        "id": "WtxwkQqYYdE7"
      },
      "source": [
        "The **Non-Null** count for both columns should match, indicating there are as many lists of `input_form` values as there are lists of `argument` values.\n",
        "\n",
        "Next, print the words and their argument labels for the first 20 sentences of the test dataset:"
      ]
    },
    {
      "cell_type": "code",
      "execution_count": 6,
      "metadata": {
        "colab": {
          "base_uri": "https://localhost:8080/"
        },
        "id": "onp3jN-7YdE7",
        "outputId": "b90aa211-5bea-44a8-cbdb-96c5b8de4e09"
      },
      "outputs": [
        {
          "name": "stdout",
          "output_type": "stream",
          "text": [
            "form: What            argument: _\n",
            "form: if              argument: _\n",
            "form: Google          argument: ARG1\n",
            "form: Morphed         argument: _\n",
            "form: Into            argument: _\n",
            "form: GoogleOS        argument: ARG2\n",
            "form: ?               argument: _\n",
            "----------------------------------------\n",
            "form: [SEP]           argument: None\n",
            "form: Morphed         argument: None\n",
            "\n",
            "========================================\n",
            "\n",
            "form: What            argument: _\n",
            "form: if              argument: _\n",
            "form: Google          argument: ARG0\n",
            "form: expanded        argument: _\n",
            "form: on              argument: _\n",
            "form: its             argument: _\n",
            "form: search          argument: _\n",
            "form: -               argument: _\n",
            "form: engine          argument: _\n",
            "form: (               argument: _\n",
            "form: and             argument: _\n",
            "form: now             argument: _\n",
            "form: e-mail          argument: _\n",
            "form: )               argument: _\n",
            "form: wares           argument: ARG1\n",
            "form: into            argument: _\n",
            "form: a               argument: _\n",
            "form: full            argument: _\n",
            "form: -               argument: _\n",
            "form: fledged         argument: _\n",
            "form: operating       argument: _\n",
            "form: system          argument: ARG4\n",
            "form: ?               argument: _\n",
            "----------------------------------------\n",
            "form: [SEP]           argument: None\n",
            "form: expanded        argument: None\n",
            "\n",
            "========================================\n",
            "\n",
            "form: (               argument: _\n",
            "form: And             argument: _\n",
            "form: ,               argument: _\n",
            "form: by              argument: _\n",
            "form: the             argument: _\n",
            "form: way             argument: _\n",
            "form: ,               argument: _\n",
            "form: is              argument: _\n",
            "form: anybody         argument: _\n",
            "form: else            argument: _\n",
            "form: just            argument: _\n",
            "form: a               argument: _\n",
            "form: little          argument: _\n",
            "form: nostalgic       argument: _\n",
            "form: for             argument: _\n",
            "form: the             argument: _\n",
            "form: days            argument: _\n",
            "form: when            argument: _\n",
            "form: that            argument: _\n",
            "form: was             argument: _\n",
            "form: a               argument: _\n",
            "form: good            argument: _\n",
            "form: thing           argument: _\n",
            "form: ?               argument: _\n",
            "form: )               argument: _\n",
            "----------------------------------------\n",
            "form: [SEP]           argument: None\n",
            "form: way             argument: None\n",
            "\n",
            "========================================\n",
            "\n",
            "form: (               argument: _\n",
            "form: And             argument: _\n",
            "form: ,               argument: _\n",
            "form: by              argument: _\n",
            "form: the             argument: _\n",
            "form: way             argument: ARGM-DIS\n",
            "form: ,               argument: _\n",
            "form: is              argument: _\n",
            "form: anybody         argument: ARG1\n",
            "form: else            argument: _\n",
            "form: just            argument: _\n",
            "form: a               argument: _\n",
            "form: little          argument: _\n",
            "form: nostalgic       argument: ARG2\n",
            "form: for             argument: _\n",
            "form: the             argument: _\n",
            "form: days            argument: _\n",
            "form: when            argument: _\n",
            "form: that            argument: _\n",
            "form: was             argument: _\n",
            "form: a               argument: _\n",
            "form: good            argument: _\n",
            "form: thing           argument: _\n",
            "form: ?               argument: _\n",
            "form: )               argument: _\n",
            "----------------------------------------\n",
            "form: [SEP]           argument: None\n",
            "form: is              argument: None\n",
            "\n",
            "========================================\n",
            "\n",
            "form: (               argument: _\n",
            "form: And             argument: _\n",
            "form: ,               argument: _\n",
            "form: by              argument: _\n",
            "form: the             argument: _\n",
            "form: way             argument: _\n",
            "form: ,               argument: _\n",
            "form: is              argument: _\n",
            "form: anybody         argument: _\n",
            "form: else            argument: _\n",
            "form: just            argument: _\n",
            "form: a               argument: _\n",
            "form: little          argument: _\n",
            "form: nostalgic       argument: _\n",
            "form: for             argument: _\n",
            "form: the             argument: _\n",
            "form: days            argument: ARGM-TMP\n",
            "form: when            argument: R-ARGM-TMP\n",
            "form: that            argument: ARG1\n",
            "form: was             argument: _\n",
            "form: a               argument: _\n",
            "form: good            argument: _\n",
            "form: thing           argument: ARG2\n",
            "form: ?               argument: _\n",
            "form: )               argument: _\n",
            "----------------------------------------\n",
            "form: [SEP]           argument: None\n",
            "form: is              argument: None\n",
            "\n",
            "========================================\n",
            "\n",
            "form: This            argument: _\n",
            "form: BuzzMachine     argument: ARG2\n",
            "form: post            argument: _\n",
            "form: argues          argument: _\n",
            "form: that            argument: _\n",
            "form: Google          argument: _\n",
            "form: 's              argument: _\n",
            "form: rush            argument: _\n",
            "form: toward          argument: _\n",
            "form: ubiquity        argument: _\n",
            "form: might           argument: _\n",
            "form: backfire        argument: _\n",
            "form: --              argument: _\n",
            "form: which           argument: _\n",
            "form: we              argument: _\n",
            "form: 've             argument: _\n",
            "form: all             argument: _\n",
            "form: heard           argument: _\n",
            "form: before          argument: _\n",
            "form: ,               argument: _\n",
            "form: but             argument: _\n",
            "form: it              argument: _\n",
            "form: 's              argument: _\n",
            "form: particularly    argument: _\n",
            "form: well            argument: _\n",
            "form: -               argument: _\n",
            "form: put             argument: _\n",
            "form: in              argument: _\n",
            "form: this            argument: _\n",
            "form: post            argument: _\n",
            "form: .               argument: _\n",
            "----------------------------------------\n",
            "form: [SEP]           argument: None\n",
            "form: post            argument: None\n",
            "\n",
            "========================================\n",
            "\n",
            "form: This            argument: _\n",
            "form: BuzzMachine     argument: _\n",
            "form: post            argument: ARG0\n",
            "form: argues          argument: _\n",
            "form: that            argument: _\n",
            "form: Google          argument: _\n",
            "form: 's              argument: _\n",
            "form: rush            argument: _\n",
            "form: toward          argument: _\n",
            "form: ubiquity        argument: _\n",
            "form: might           argument: _\n",
            "form: backfire        argument: ARG1\n",
            "form: --              argument: _\n",
            "form: which           argument: _\n",
            "form: we              argument: _\n",
            "form: 've             argument: _\n",
            "form: all             argument: _\n",
            "form: heard           argument: _\n",
            "form: before          argument: _\n",
            "form: ,               argument: _\n",
            "form: but             argument: _\n",
            "form: it              argument: _\n",
            "form: 's              argument: _\n",
            "form: particularly    argument: _\n",
            "form: well            argument: _\n",
            "form: -               argument: _\n",
            "form: put             argument: _\n",
            "form: in              argument: _\n",
            "form: this            argument: _\n",
            "form: post            argument: _\n",
            "form: .               argument: _\n",
            "----------------------------------------\n",
            "form: [SEP]           argument: None\n",
            "form: argues          argument: None\n",
            "\n",
            "========================================\n",
            "\n",
            "form: This            argument: _\n",
            "form: BuzzMachine     argument: _\n",
            "form: post            argument: _\n",
            "form: argues          argument: _\n",
            "form: that            argument: _\n",
            "form: Google          argument: ARG1\n",
            "form: 's              argument: _\n",
            "form: rush            argument: _\n",
            "form: toward          argument: _\n",
            "form: ubiquity        argument: ARG2\n",
            "form: might           argument: _\n",
            "form: backfire        argument: _\n",
            "form: --              argument: _\n",
            "form: which           argument: _\n",
            "form: we              argument: _\n",
            "form: 've             argument: _\n",
            "form: all             argument: _\n",
            "form: heard           argument: _\n",
            "form: before          argument: _\n",
            "form: ,               argument: _\n",
            "form: but             argument: _\n",
            "form: it              argument: _\n",
            "form: 's              argument: _\n",
            "form: particularly    argument: _\n",
            "form: well            argument: _\n",
            "form: -               argument: _\n",
            "form: put             argument: _\n",
            "form: in              argument: _\n",
            "form: this            argument: _\n",
            "form: post            argument: _\n",
            "form: .               argument: _\n",
            "----------------------------------------\n",
            "form: [SEP]           argument: None\n",
            "form: rush            argument: None\n",
            "\n",
            "========================================\n",
            "\n",
            "form: This            argument: _\n",
            "form: BuzzMachine     argument: _\n",
            "form: post            argument: _\n",
            "form: argues          argument: _\n",
            "form: that            argument: _\n",
            "form: Google          argument: _\n",
            "form: 's              argument: _\n",
            "form: rush            argument: ARG1\n",
            "form: toward          argument: _\n",
            "form: ubiquity        argument: _\n",
            "form: might           argument: ARGM-MOD\n",
            "form: backfire        argument: _\n",
            "form: --              argument: _\n",
            "form: which           argument: _\n",
            "form: we              argument: _\n",
            "form: 've             argument: _\n",
            "form: all             argument: _\n",
            "form: heard           argument: ARGM-ADV\n",
            "form: before          argument: _\n",
            "form: ,               argument: _\n",
            "form: but             argument: _\n",
            "form: it              argument: _\n",
            "form: 's              argument: _\n",
            "form: particularly    argument: _\n",
            "form: well            argument: _\n",
            "form: -               argument: _\n",
            "form: put             argument: _\n",
            "form: in              argument: _\n",
            "form: this            argument: _\n",
            "form: post            argument: _\n",
            "form: .               argument: _\n",
            "----------------------------------------\n",
            "form: [SEP]           argument: None\n",
            "form: backfire        argument: None\n",
            "\n",
            "========================================\n",
            "\n",
            "form: This            argument: _\n",
            "form: BuzzMachine     argument: _\n",
            "form: post            argument: _\n",
            "form: argues          argument: _\n",
            "form: that            argument: _\n",
            "form: Google          argument: _\n",
            "form: 's              argument: _\n",
            "form: rush            argument: _\n",
            "form: toward          argument: _\n",
            "form: ubiquity        argument: _\n",
            "form: might           argument: _\n",
            "form: backfire        argument: _\n",
            "form: --              argument: _\n",
            "form: which           argument: _\n",
            "form: we              argument: _\n",
            "form: 've             argument: _\n",
            "form: all             argument: _\n",
            "form: heard           argument: _\n",
            "form: before          argument: _\n",
            "form: ,               argument: _\n",
            "form: but             argument: _\n",
            "form: it              argument: _\n",
            "form: 's              argument: _\n",
            "form: particularly    argument: _\n",
            "form: well            argument: _\n",
            "form: -               argument: _\n",
            "form: put             argument: _\n",
            "form: in              argument: _\n",
            "form: this            argument: _\n",
            "form: post            argument: _\n",
            "form: .               argument: _\n",
            "----------------------------------------\n",
            "form: [SEP]           argument: None\n",
            "form: 've             argument: None\n",
            "\n",
            "========================================\n",
            "\n",
            "form: This            argument: _\n",
            "form: BuzzMachine     argument: _\n",
            "form: post            argument: _\n",
            "form: argues          argument: _\n",
            "form: that            argument: _\n",
            "form: Google          argument: _\n",
            "form: 's              argument: _\n",
            "form: rush            argument: _\n",
            "form: toward          argument: _\n",
            "form: ubiquity        argument: _\n",
            "form: might           argument: _\n",
            "form: backfire        argument: _\n",
            "form: --              argument: _\n",
            "form: which           argument: ARG1\n",
            "form: we              argument: ARG0\n",
            "form: 've             argument: _\n",
            "form: all             argument: ARGM-ADV\n",
            "form: heard           argument: _\n",
            "form: before          argument: ARGM-TMP\n",
            "form: ,               argument: _\n",
            "form: but             argument: _\n",
            "form: it              argument: _\n",
            "form: 's              argument: _\n",
            "form: particularly    argument: _\n",
            "form: well            argument: _\n",
            "form: -               argument: _\n",
            "form: put             argument: _\n",
            "form: in              argument: _\n",
            "form: this            argument: _\n",
            "form: post            argument: _\n",
            "form: .               argument: _\n",
            "----------------------------------------\n",
            "form: [SEP]           argument: None\n",
            "form: heard           argument: None\n",
            "\n",
            "========================================\n",
            "\n",
            "form: This            argument: _\n",
            "form: BuzzMachine     argument: _\n",
            "form: post            argument: _\n",
            "form: argues          argument: _\n",
            "form: that            argument: _\n",
            "form: Google          argument: _\n",
            "form: 's              argument: _\n",
            "form: rush            argument: _\n",
            "form: toward          argument: _\n",
            "form: ubiquity        argument: _\n",
            "form: might           argument: _\n",
            "form: backfire        argument: _\n",
            "form: --              argument: _\n",
            "form: which           argument: _\n",
            "form: we              argument: _\n",
            "form: 've             argument: _\n",
            "form: all             argument: _\n",
            "form: heard           argument: _\n",
            "form: before          argument: _\n",
            "form: ,               argument: _\n",
            "form: but             argument: _\n",
            "form: it              argument: ARG1\n",
            "form: 's              argument: _\n",
            "form: particularly    argument: ARGM-ADV\n",
            "form: well            argument: _\n",
            "form: -               argument: _\n",
            "form: put             argument: ARG2\n",
            "form: in              argument: _\n",
            "form: this            argument: _\n",
            "form: post            argument: ARGM-LOC\n",
            "form: .               argument: _\n",
            "----------------------------------------\n",
            "form: [SEP]           argument: None\n",
            "form: 's              argument: None\n",
            "\n",
            "========================================\n",
            "\n",
            "form: This            argument: _\n",
            "form: BuzzMachine     argument: _\n",
            "form: post            argument: _\n",
            "form: argues          argument: _\n",
            "form: that            argument: _\n",
            "form: Google          argument: _\n",
            "form: 's              argument: _\n",
            "form: rush            argument: _\n",
            "form: toward          argument: _\n",
            "form: ubiquity        argument: _\n",
            "form: might           argument: _\n",
            "form: backfire        argument: _\n",
            "form: --              argument: _\n",
            "form: which           argument: _\n",
            "form: we              argument: _\n",
            "form: 've             argument: _\n",
            "form: all             argument: _\n",
            "form: heard           argument: _\n",
            "form: before          argument: _\n",
            "form: ,               argument: _\n",
            "form: but             argument: _\n",
            "form: it              argument: _\n",
            "form: 's              argument: _\n",
            "form: particularly    argument: _\n",
            "form: well            argument: _\n",
            "form: -               argument: _\n",
            "form: put             argument: _\n",
            "form: in              argument: _\n",
            "form: this            argument: _\n",
            "form: post            argument: _\n",
            "form: .               argument: _\n",
            "----------------------------------------\n",
            "form: [SEP]           argument: None\n",
            "form: post            argument: None\n",
            "\n",
            "========================================\n",
            "\n",
            "form: Google          argument: ARG1\n",
            "form: is              argument: _\n",
            "form: a               argument: _\n",
            "form: nice            argument: _\n",
            "form: search          argument: _\n",
            "form: engine          argument: ARG2\n",
            "form: .               argument: _\n",
            "----------------------------------------\n",
            "form: [SEP]           argument: None\n",
            "form: is              argument: None\n",
            "\n",
            "========================================\n",
            "\n",
            "form: Does            argument: _\n",
            "form: anybody         argument: _\n",
            "form: use             argument: _\n",
            "form: it              argument: _\n",
            "form: for             argument: _\n",
            "form: anything        argument: _\n",
            "form: else            argument: _\n",
            "form: ?               argument: _\n",
            "----------------------------------------\n",
            "form: [SEP]           argument: None\n",
            "form: Does            argument: None\n",
            "\n",
            "========================================\n",
            "\n",
            "form: Does            argument: _\n",
            "form: anybody         argument: ARG0\n",
            "form: use             argument: _\n",
            "form: it              argument: ARG1\n",
            "form: for             argument: _\n",
            "form: anything        argument: ARG2\n",
            "form: else            argument: _\n",
            "form: ?               argument: _\n",
            "----------------------------------------\n",
            "form: [SEP]           argument: None\n",
            "form: use             argument: None\n",
            "\n",
            "========================================\n",
            "\n",
            "form: They            argument: ARG0\n",
            "form: own             argument: _\n",
            "form: blogger         argument: ARG1\n",
            "form: ,               argument: _\n",
            "form: of              argument: ARGM-ADV\n",
            "form: course          argument: _\n",
            "form: .               argument: _\n",
            "----------------------------------------\n",
            "form: [SEP]           argument: None\n",
            "form: own             argument: None\n",
            "\n",
            "========================================\n",
            "\n",
            "form: Is              argument: _\n",
            "form: that            argument: ARG1\n",
            "form: a               argument: _\n",
            "form: money           argument: _\n",
            "form: maker           argument: ARG2\n",
            "form: ?               argument: _\n",
            "----------------------------------------\n",
            "form: [SEP]           argument: None\n",
            "form: Is              argument: None\n",
            "\n",
            "========================================\n",
            "\n",
            "form: I               argument: _\n",
            "form: 'm              argument: _\n",
            "form: staying         argument: _\n",
            "form: away            argument: _\n",
            "form: from            argument: _\n",
            "form: the             argument: _\n",
            "form: stock           argument: _\n",
            "form: .               argument: _\n",
            "----------------------------------------\n",
            "form: [SEP]           argument: None\n",
            "form: 'm              argument: None\n",
            "\n",
            "========================================\n",
            "\n",
            "form: I               argument: ARG1\n",
            "form: 'm              argument: _\n",
            "form: staying         argument: _\n",
            "form: away            argument: ARG3\n",
            "form: from            argument: _\n",
            "form: the             argument: _\n",
            "form: stock           argument: _\n",
            "form: .               argument: _\n",
            "----------------------------------------\n",
            "form: [SEP]           argument: None\n",
            "form: staying         argument: None\n",
            "\n",
            "========================================\n",
            "\n"
          ]
        }
      ],
      "source": [
        "for form, argument in zip(test_data.input_form[:20], test_data.argument[:20]):\n",
        "    for f, a in zip(form, argument):\n",
        "        if f == '[SEP]':\n",
        "            print('-' * 40)\n",
        "        print(f\"form: {f:<15} argument: {a}\")\n",
        "    print('\\n' + '=' * 40 + '\\n')"
      ]
    },
    {
      "cell_type": "markdown",
      "metadata": {
        "id": "YSXRRKutYdE7"
      },
      "source": [
        "## Step 2: Import the BERT model and tokenizer"
      ]
    },
    {
      "cell_type": "markdown",
      "metadata": {
        "id": "N5g8f-8dYdE8"
      },
      "source": [
        "Use HuggingFace's [`AutoTokenizer`](https://huggingface.co/docs/transformers/v4.38.2/en/model_doc/auto#transformers.AutoTokenizer) to construct a DistilBERT tokenizer, which is based on the WordPiece algorithm."
      ]
    },
    {
      "cell_type": "code",
      "execution_count": 22,
      "metadata": {
        "id": "YJxQoz_GYdE8"
      },
      "outputs": [],
      "source": [
        "# Set the model ID to use\n",
        "model_checkpoint = \"distilbert-base-uncased\"\n",
        "\n",
        "# Initialize the tokenizer\n",
        "tokenizer = AutoTokenizer.from_pretrained(model_checkpoint)\n",
        "\n",
        "# Check the assertion that the tokenizer is an instance of transformers.PreTrainedTokenizerFast\n",
        "assert isinstance(tokenizer, transformers.PreTrainedTokenizerFast)"
      ]
    },
    {
      "cell_type": "markdown",
      "metadata": {
        "id": "Vi0vG2xMYdE8"
      },
      "source": [
        "Checking the sentence representation"
      ]
    },
    {
      "cell_type": "code",
      "execution_count": 23,
      "metadata": {
        "colab": {
          "base_uri": "https://localhost:8080/"
        },
        "id": "wbgIPOS6YdE8",
        "outputId": "e339a76b-468b-40db-d6c0-235a65406198"
      },
      "outputs": [
        {
          "name": "stdout",
          "output_type": "stream",
          "text": [
            "['What', 'if', 'Google', 'expanded', 'on', 'its', 'search', '-', 'engine', '(', 'and', 'now', 'e-mail', ')', 'wares', 'into', 'a', 'full', '-', 'fledged', 'operating', 'system', '?', '[SEP]', 'expanded']\n"
          ]
        }
      ],
      "source": [
        "example = test_data['input_form'][1]\n",
        "print(example)"
      ]
    },
    {
      "cell_type": "markdown",
      "metadata": {
        "id": "PfDkj0huYdE9"
      },
      "source": [
        "The sentence contains the [SEP] special token followed by the predicate. Therefore, the parameter `add_special_tokens` is set to True so that the index is converted to 102 accordingly and is not treated as another word. \\\n",
        "In addition, the sentence is already split into tokens, to the parameter `is_split_into_words` is also set to True"
      ]
    },
    {
      "cell_type": "code",
      "execution_count": 24,
      "metadata": {
        "colab": {
          "base_uri": "https://localhost:8080/"
        },
        "id": "B1sH32M5YdE9",
        "outputId": "bdcf5469-75ce-4f3c-8cab-fb115f1db278"
      },
      "outputs": [
        {
          "data": {
            "text/plain": [
              "{'input_ids': [101, 2054, 2065, 8224, 4423, 2006, 2049, 3945, 1011, 3194, 1006, 1998, 2085, 1041, 1011, 5653, 1007, 16283, 2015, 2046, 1037, 2440, 1011, 26712, 4082, 2291, 1029, 102, 4423, 102], 'attention_mask': [1, 1, 1, 1, 1, 1, 1, 1, 1, 1, 1, 1, 1, 1, 1, 1, 1, 1, 1, 1, 1, 1, 1, 1, 1, 1, 1, 1, 1, 1]}"
            ]
          },
          "execution_count": 24,
          "metadata": {},
          "output_type": "execute_result"
        }
      ],
      "source": [
        "tokenizer(example,add_special_tokens=True,is_split_into_words=True)"
      ]
    },
    {
      "cell_type": "code",
      "execution_count": 25,
      "metadata": {
        "colab": {
          "base_uri": "https://localhost:8080/"
        },
        "id": "Pdpi9te9YdE-",
        "outputId": "b7dc9e51-3d04-43ca-c4cc-e96395b47776"
      },
      "outputs": [
        {
          "name": "stdout",
          "output_type": "stream",
          "text": [
            "['[CLS]', 'what', 'if', 'google', 'expanded', 'on', 'its', 'search', '-', 'engine', '(', 'and', 'now', 'e', '-', 'mail', ')', 'ware', '##s', 'into', 'a', 'full', '-', 'fledged', 'operating', 'system', '?', '[SEP]', 'expanded', '[SEP]']\n"
          ]
        }
      ],
      "source": [
        "tokenized_input = tokenizer(example,add_special_tokens=True,is_split_into_words=True)\n",
        "tokens = tokenizer.convert_ids_to_tokens(tokenized_input[\"input_ids\"])\n",
        "print(tokens)"
      ]
    },
    {
      "cell_type": "markdown",
      "metadata": {
        "id": "lERE6j_HYdE-"
      },
      "source": [
        "## Tokenizing and preparing input for the model"
      ]
    },
    {
      "cell_type": "markdown",
      "metadata": {
        "id": "R8BO8OyoYdE-"
      },
      "source": [
        "Getting the mapping of all possible arguments across all datasets to a numerical value with the `get_label_mapping` function.\\\n",
        "None value stays as None to be mapped to the special token in the model."
      ]
    },
    {
      "cell_type": "code",
      "execution_count": 26,
      "metadata": {
        "id": "kangOKNiYdE-"
      },
      "outputs": [],
      "source": [
        "label_map = get_label_mapping(train_data, test_data, dev_data)"
      ]
    },
    {
      "cell_type": "code",
      "execution_count": 27,
      "metadata": {
        "colab": {
          "base_uri": "https://localhost:8080/"
        },
        "id": "Id6U73tRYdE_",
        "outputId": "61c536d9-1941-4d09-d9f1-858209868edd"
      },
      "outputs": [
        {
          "name": "stdout",
          "output_type": "stream",
          "text": [
            "{'_': 0, 'ARG0': 1, 'ARG1': 2, 'ARG1-DSP': 3, 'ARG2': 4, 'ARG3': 5, 'ARG4': 6, 'ARG5': 7, 'ARGA': 8, 'ARGM-ADJ': 9, 'ARGM-ADV': 10, 'ARGM-CAU': 11, 'ARGM-COM': 12, 'ARGM-CXN': 13, 'ARGM-DIR': 14, 'ARGM-DIS': 15, 'ARGM-EXT': 16, 'ARGM-GOL': 17, 'ARGM-LOC': 18, 'ARGM-LVB': 19, 'ARGM-MNR': 20, 'ARGM-MOD': 21, 'ARGM-NEG': 22, 'ARGM-PRD': 23, 'ARGM-PRP': 24, 'ARGM-PRR': 25, 'ARGM-REC': 26, 'ARGM-TMP': 27, 'C-ARG0': 28, 'C-ARG1': 29, 'C-ARG1-DSP': 30, 'C-ARG2': 31, 'C-ARG3': 32, 'C-ARG4': 33, 'C-ARGM-ADV': 34, 'C-ARGM-COM': 35, 'C-ARGM-CXN': 36, 'C-ARGM-DIR': 37, 'C-ARGM-EXT': 38, 'C-ARGM-GOL': 39, 'C-ARGM-LOC': 40, 'C-ARGM-MNR': 41, 'C-ARGM-PRP': 42, 'C-ARGM-PRR': 43, 'C-ARGM-TMP': 44, 'R-ARG0': 45, 'R-ARG1': 46, 'R-ARG2': 47, 'R-ARG3': 48, 'R-ARG4': 49, 'R-ARGM-ADJ': 50, 'R-ARGM-ADV': 51, 'R-ARGM-CAU': 52, 'R-ARGM-COM': 53, 'R-ARGM-DIR': 54, 'R-ARGM-GOL': 55, 'R-ARGM-LOC': 56, 'R-ARGM-MNR': 57, 'R-ARGM-TMP': 58, None: None}\n"
          ]
        }
      ],
      "source": [
        "print(label_map)"
      ]
    },
    {
      "cell_type": "markdown",
      "metadata": {
        "id": "WiyFPfnuYdFA"
      },
      "source": [
        "Converting the labels in the df to numerical values for the language model with `map_labels_in_dataframe` function. The label_map dictionary from the function above is needed to map the arguments to their value.\\\n",
        "Add a new column to the df matching the arguments to label numbers. 0 stands for '_' (no argument) and the rest of the arguments are alphabetically ordered. \\\n",
        "*None* label will be mapped to the *[SEP]* token.\n"
      ]
    },
    {
      "cell_type": "code",
      "execution_count": 28,
      "metadata": {
        "id": "N1Cy6U0nYdFB"
      },
      "outputs": [],
      "source": [
        "train_data = map_labels_in_dataframe(train_data,label_map)\n",
        "dev_data = map_labels_in_dataframe(dev_data,label_map)\n",
        "test_data = map_labels_in_dataframe(test_data,label_map)"
      ]
    },
    {
      "cell_type": "markdown",
      "metadata": {
        "id": "x1MzLjuoYdFB"
      },
      "source": [
        "Checking the head to confirm the labels were correctly converted:"
      ]
    },
    {
      "cell_type": "code",
      "execution_count": 29,
      "metadata": {
        "colab": {
          "base_uri": "https://localhost:8080/",
          "height": 204
        },
        "id": "NrsuWwugYdFB",
        "outputId": "2295307d-bdbb-4b21-fa20-2060beeb23d3"
      },
      "outputs": [
        {
          "data": {
            "application/vnd.google.colaboratory.intrinsic+json": {
              "summary": "{\n  \"name\": \"test_data\",\n  \"rows\": 4799,\n  \"fields\": [\n    {\n      \"column\": \"input_form\",\n      \"properties\": {\n        \"dtype\": \"object\",\n        \"semantic_type\": \"\",\n        \"description\": \"\"\n      }\n    },\n    {\n      \"column\": \"argument\",\n      \"properties\": {\n        \"dtype\": \"object\",\n        \"semantic_type\": \"\",\n        \"description\": \"\"\n      }\n    },\n    {\n      \"column\": \"mapped_labels\",\n      \"properties\": {\n        \"dtype\": \"object\",\n        \"semantic_type\": \"\",\n        \"description\": \"\"\n      }\n    }\n  ]\n}",
              "type": "dataframe",
              "variable_name": "test_data"
            },
            "text/html": [
              "\n",
              "  <div id=\"df-162679c8-7f85-493d-893d-031877cc9901\" class=\"colab-df-container\">\n",
              "    <div>\n",
              "<style scoped>\n",
              "    .dataframe tbody tr th:only-of-type {\n",
              "        vertical-align: middle;\n",
              "    }\n",
              "\n",
              "    .dataframe tbody tr th {\n",
              "        vertical-align: top;\n",
              "    }\n",
              "\n",
              "    .dataframe thead th {\n",
              "        text-align: right;\n",
              "    }\n",
              "</style>\n",
              "<table border=\"1\" class=\"dataframe\">\n",
              "  <thead>\n",
              "    <tr style=\"text-align: right;\">\n",
              "      <th></th>\n",
              "      <th>input_form</th>\n",
              "      <th>argument</th>\n",
              "      <th>mapped_labels</th>\n",
              "    </tr>\n",
              "  </thead>\n",
              "  <tbody>\n",
              "    <tr>\n",
              "      <th>0</th>\n",
              "      <td>[What, if, Google, Morphed, Into, GoogleOS, ?,...</td>\n",
              "      <td>[_, _, ARG1, _, _, ARG2, _, None, None]</td>\n",
              "      <td>[0, 0, 2, 0, 0, 4, 0, None, None]</td>\n",
              "    </tr>\n",
              "    <tr>\n",
              "      <th>1</th>\n",
              "      <td>[What, if, Google, expanded, on, its, search, ...</td>\n",
              "      <td>[_, _, ARG0, _, _, _, _, _, _, _, _, _, _, _, ...</td>\n",
              "      <td>[0, 0, 1, 0, 0, 0, 0, 0, 0, 0, 0, 0, 0, 0, 2, ...</td>\n",
              "    </tr>\n",
              "    <tr>\n",
              "      <th>2</th>\n",
              "      <td>[(, And, ,, by, the, way, ,, is, anybody, else...</td>\n",
              "      <td>[_, _, _, _, _, _, _, _, _, _, _, _, _, _, _, ...</td>\n",
              "      <td>[0, 0, 0, 0, 0, 0, 0, 0, 0, 0, 0, 0, 0, 0, 0, ...</td>\n",
              "    </tr>\n",
              "    <tr>\n",
              "      <th>3</th>\n",
              "      <td>[(, And, ,, by, the, way, ,, is, anybody, else...</td>\n",
              "      <td>[_, _, _, _, _, ARGM-DIS, _, _, ARG1, _, _, _,...</td>\n",
              "      <td>[0, 0, 0, 0, 0, 15, 0, 0, 2, 0, 0, 0, 0, 4, 0,...</td>\n",
              "    </tr>\n",
              "    <tr>\n",
              "      <th>4</th>\n",
              "      <td>[(, And, ,, by, the, way, ,, is, anybody, else...</td>\n",
              "      <td>[_, _, _, _, _, _, _, _, _, _, _, _, _, _, _, ...</td>\n",
              "      <td>[0, 0, 0, 0, 0, 0, 0, 0, 0, 0, 0, 0, 0, 0, 0, ...</td>\n",
              "    </tr>\n",
              "  </tbody>\n",
              "</table>\n",
              "</div>\n",
              "    <div class=\"colab-df-buttons\">\n",
              "\n",
              "  <div class=\"colab-df-container\">\n",
              "    <button class=\"colab-df-convert\" onclick=\"convertToInteractive('df-162679c8-7f85-493d-893d-031877cc9901')\"\n",
              "            title=\"Convert this dataframe to an interactive table.\"\n",
              "            style=\"display:none;\">\n",
              "\n",
              "  <svg xmlns=\"http://www.w3.org/2000/svg\" height=\"24px\" viewBox=\"0 -960 960 960\">\n",
              "    <path d=\"M120-120v-720h720v720H120Zm60-500h600v-160H180v160Zm220 220h160v-160H400v160Zm0 220h160v-160H400v160ZM180-400h160v-160H180v160Zm440 0h160v-160H620v160ZM180-180h160v-160H180v160Zm440 0h160v-160H620v160Z\"/>\n",
              "  </svg>\n",
              "    </button>\n",
              "\n",
              "  <style>\n",
              "    .colab-df-container {\n",
              "      display:flex;\n",
              "      gap: 12px;\n",
              "    }\n",
              "\n",
              "    .colab-df-convert {\n",
              "      background-color: #E8F0FE;\n",
              "      border: none;\n",
              "      border-radius: 50%;\n",
              "      cursor: pointer;\n",
              "      display: none;\n",
              "      fill: #1967D2;\n",
              "      height: 32px;\n",
              "      padding: 0 0 0 0;\n",
              "      width: 32px;\n",
              "    }\n",
              "\n",
              "    .colab-df-convert:hover {\n",
              "      background-color: #E2EBFA;\n",
              "      box-shadow: 0px 1px 2px rgba(60, 64, 67, 0.3), 0px 1px 3px 1px rgba(60, 64, 67, 0.15);\n",
              "      fill: #174EA6;\n",
              "    }\n",
              "\n",
              "    .colab-df-buttons div {\n",
              "      margin-bottom: 4px;\n",
              "    }\n",
              "\n",
              "    [theme=dark] .colab-df-convert {\n",
              "      background-color: #3B4455;\n",
              "      fill: #D2E3FC;\n",
              "    }\n",
              "\n",
              "    [theme=dark] .colab-df-convert:hover {\n",
              "      background-color: #434B5C;\n",
              "      box-shadow: 0px 1px 3px 1px rgba(0, 0, 0, 0.15);\n",
              "      filter: drop-shadow(0px 1px 2px rgba(0, 0, 0, 0.3));\n",
              "      fill: #FFFFFF;\n",
              "    }\n",
              "  </style>\n",
              "\n",
              "    <script>\n",
              "      const buttonEl =\n",
              "        document.querySelector('#df-162679c8-7f85-493d-893d-031877cc9901 button.colab-df-convert');\n",
              "      buttonEl.style.display =\n",
              "        google.colab.kernel.accessAllowed ? 'block' : 'none';\n",
              "\n",
              "      async function convertToInteractive(key) {\n",
              "        const element = document.querySelector('#df-162679c8-7f85-493d-893d-031877cc9901');\n",
              "        const dataTable =\n",
              "          await google.colab.kernel.invokeFunction('convertToInteractive',\n",
              "                                                    [key], {});\n",
              "        if (!dataTable) return;\n",
              "\n",
              "        const docLinkHtml = 'Like what you see? Visit the ' +\n",
              "          '<a target=\"_blank\" href=https://colab.research.google.com/notebooks/data_table.ipynb>data table notebook</a>'\n",
              "          + ' to learn more about interactive tables.';\n",
              "        element.innerHTML = '';\n",
              "        dataTable['output_type'] = 'display_data';\n",
              "        await google.colab.output.renderOutput(dataTable, element);\n",
              "        const docLink = document.createElement('div');\n",
              "        docLink.innerHTML = docLinkHtml;\n",
              "        element.appendChild(docLink);\n",
              "      }\n",
              "    </script>\n",
              "  </div>\n",
              "\n",
              "\n",
              "<div id=\"df-84529ab9-8792-4958-82cc-136109a28e52\">\n",
              "  <button class=\"colab-df-quickchart\" onclick=\"quickchart('df-84529ab9-8792-4958-82cc-136109a28e52')\"\n",
              "            title=\"Suggest charts\"\n",
              "            style=\"display:none;\">\n",
              "\n",
              "<svg xmlns=\"http://www.w3.org/2000/svg\" height=\"24px\"viewBox=\"0 0 24 24\"\n",
              "     width=\"24px\">\n",
              "    <g>\n",
              "        <path d=\"M19 3H5c-1.1 0-2 .9-2 2v14c0 1.1.9 2 2 2h14c1.1 0 2-.9 2-2V5c0-1.1-.9-2-2-2zM9 17H7v-7h2v7zm4 0h-2V7h2v10zm4 0h-2v-4h2v4z\"/>\n",
              "    </g>\n",
              "</svg>\n",
              "  </button>\n",
              "\n",
              "<style>\n",
              "  .colab-df-quickchart {\n",
              "      --bg-color: #E8F0FE;\n",
              "      --fill-color: #1967D2;\n",
              "      --hover-bg-color: #E2EBFA;\n",
              "      --hover-fill-color: #174EA6;\n",
              "      --disabled-fill-color: #AAA;\n",
              "      --disabled-bg-color: #DDD;\n",
              "  }\n",
              "\n",
              "  [theme=dark] .colab-df-quickchart {\n",
              "      --bg-color: #3B4455;\n",
              "      --fill-color: #D2E3FC;\n",
              "      --hover-bg-color: #434B5C;\n",
              "      --hover-fill-color: #FFFFFF;\n",
              "      --disabled-bg-color: #3B4455;\n",
              "      --disabled-fill-color: #666;\n",
              "  }\n",
              "\n",
              "  .colab-df-quickchart {\n",
              "    background-color: var(--bg-color);\n",
              "    border: none;\n",
              "    border-radius: 50%;\n",
              "    cursor: pointer;\n",
              "    display: none;\n",
              "    fill: var(--fill-color);\n",
              "    height: 32px;\n",
              "    padding: 0;\n",
              "    width: 32px;\n",
              "  }\n",
              "\n",
              "  .colab-df-quickchart:hover {\n",
              "    background-color: var(--hover-bg-color);\n",
              "    box-shadow: 0 1px 2px rgba(60, 64, 67, 0.3), 0 1px 3px 1px rgba(60, 64, 67, 0.15);\n",
              "    fill: var(--button-hover-fill-color);\n",
              "  }\n",
              "\n",
              "  .colab-df-quickchart-complete:disabled,\n",
              "  .colab-df-quickchart-complete:disabled:hover {\n",
              "    background-color: var(--disabled-bg-color);\n",
              "    fill: var(--disabled-fill-color);\n",
              "    box-shadow: none;\n",
              "  }\n",
              "\n",
              "  .colab-df-spinner {\n",
              "    border: 2px solid var(--fill-color);\n",
              "    border-color: transparent;\n",
              "    border-bottom-color: var(--fill-color);\n",
              "    animation:\n",
              "      spin 1s steps(1) infinite;\n",
              "  }\n",
              "\n",
              "  @keyframes spin {\n",
              "    0% {\n",
              "      border-color: transparent;\n",
              "      border-bottom-color: var(--fill-color);\n",
              "      border-left-color: var(--fill-color);\n",
              "    }\n",
              "    20% {\n",
              "      border-color: transparent;\n",
              "      border-left-color: var(--fill-color);\n",
              "      border-top-color: var(--fill-color);\n",
              "    }\n",
              "    30% {\n",
              "      border-color: transparent;\n",
              "      border-left-color: var(--fill-color);\n",
              "      border-top-color: var(--fill-color);\n",
              "      border-right-color: var(--fill-color);\n",
              "    }\n",
              "    40% {\n",
              "      border-color: transparent;\n",
              "      border-right-color: var(--fill-color);\n",
              "      border-top-color: var(--fill-color);\n",
              "    }\n",
              "    60% {\n",
              "      border-color: transparent;\n",
              "      border-right-color: var(--fill-color);\n",
              "    }\n",
              "    80% {\n",
              "      border-color: transparent;\n",
              "      border-right-color: var(--fill-color);\n",
              "      border-bottom-color: var(--fill-color);\n",
              "    }\n",
              "    90% {\n",
              "      border-color: transparent;\n",
              "      border-bottom-color: var(--fill-color);\n",
              "    }\n",
              "  }\n",
              "</style>\n",
              "\n",
              "  <script>\n",
              "    async function quickchart(key) {\n",
              "      const quickchartButtonEl =\n",
              "        document.querySelector('#' + key + ' button');\n",
              "      quickchartButtonEl.disabled = true;  // To prevent multiple clicks.\n",
              "      quickchartButtonEl.classList.add('colab-df-spinner');\n",
              "      try {\n",
              "        const charts = await google.colab.kernel.invokeFunction(\n",
              "            'suggestCharts', [key], {});\n",
              "      } catch (error) {\n",
              "        console.error('Error during call to suggestCharts:', error);\n",
              "      }\n",
              "      quickchartButtonEl.classList.remove('colab-df-spinner');\n",
              "      quickchartButtonEl.classList.add('colab-df-quickchart-complete');\n",
              "    }\n",
              "    (() => {\n",
              "      let quickchartButtonEl =\n",
              "        document.querySelector('#df-84529ab9-8792-4958-82cc-136109a28e52 button');\n",
              "      quickchartButtonEl.style.display =\n",
              "        google.colab.kernel.accessAllowed ? 'block' : 'none';\n",
              "    })();\n",
              "  </script>\n",
              "</div>\n",
              "    </div>\n",
              "  </div>\n"
            ],
            "text/plain": [
              "                                          input_form  \\\n",
              "0  [What, if, Google, Morphed, Into, GoogleOS, ?,...   \n",
              "1  [What, if, Google, expanded, on, its, search, ...   \n",
              "2  [(, And, ,, by, the, way, ,, is, anybody, else...   \n",
              "3  [(, And, ,, by, the, way, ,, is, anybody, else...   \n",
              "4  [(, And, ,, by, the, way, ,, is, anybody, else...   \n",
              "\n",
              "                                            argument  \\\n",
              "0            [_, _, ARG1, _, _, ARG2, _, None, None]   \n",
              "1  [_, _, ARG0, _, _, _, _, _, _, _, _, _, _, _, ...   \n",
              "2  [_, _, _, _, _, _, _, _, _, _, _, _, _, _, _, ...   \n",
              "3  [_, _, _, _, _, ARGM-DIS, _, _, ARG1, _, _, _,...   \n",
              "4  [_, _, _, _, _, _, _, _, _, _, _, _, _, _, _, ...   \n",
              "\n",
              "                                       mapped_labels  \n",
              "0                  [0, 0, 2, 0, 0, 4, 0, None, None]  \n",
              "1  [0, 0, 1, 0, 0, 0, 0, 0, 0, 0, 0, 0, 0, 0, 2, ...  \n",
              "2  [0, 0, 0, 0, 0, 0, 0, 0, 0, 0, 0, 0, 0, 0, 0, ...  \n",
              "3  [0, 0, 0, 0, 0, 15, 0, 0, 2, 0, 0, 0, 0, 4, 0,...  \n",
              "4  [0, 0, 0, 0, 0, 0, 0, 0, 0, 0, 0, 0, 0, 0, 0, ...  "
            ]
          },
          "execution_count": 29,
          "metadata": {},
          "output_type": "execute_result"
        }
      ],
      "source": [
        "test_data.head()"
      ]
    },
    {
      "cell_type": "markdown",
      "metadata": {
        "id": "78d8pDrEYdFB"
      },
      "source": [
        "Use `tokenize_and_align_labels` function to tokenize train, test, and dev dataframe. Padding is applied to make sure all input is the same length for the model."
      ]
    },
    {
      "cell_type": "code",
      "execution_count": 30,
      "metadata": {
        "id": "OHRNa98wYdFB"
      },
      "outputs": [],
      "source": [
        "tokenized_test = tokenize_and_align_labels(tokenizer, test_data, label_all_tokens=True)\n",
        "tokenized_train = tokenize_and_align_labels(tokenizer, train_data, label_all_tokens=True)\n",
        "tokenized_dev = tokenize_and_align_labels(tokenizer, dev_data, label_all_tokens=True)"
      ]
    },
    {
      "cell_type": "markdown",
      "metadata": {
        "id": "h9WeeG8YYdFB"
      },
      "source": [
        "The input for the model has the corresponding special token [CLS] followed by the tokenized sentence, the special token [SEP], the predicate and the final [SEP] token. \\\n",
        "The numerical labels to be fed to the model correspond to the tokenized sentence.\\\n",
        "The input is padded so that every vector is of the same length, including the labels and the attention mask."
      ]
    },
    {
      "cell_type": "code",
      "execution_count": 31,
      "metadata": {
        "colab": {
          "base_uri": "https://localhost:8080/"
        },
        "id": "e23nB-4dYdFB",
        "outputId": "f6e786d8-61b4-405a-cbac-412771ebf92e"
      },
      "outputs": [
        {
          "name": "stdout",
          "output_type": "stream",
          "text": [
            "['[CLS]', 'what', 'if', 'google', 'mor', '##ph', '##ed', 'into', 'google', '##os', '?', '[SEP]', 'mor', '##ph', '##ed', '[SEP]', '[PAD]', '[PAD]', '[PAD]', '[PAD]', '[PAD]', '[PAD]', '[PAD]', '[PAD]', '[PAD]', '[PAD]', '[PAD]', '[PAD]', '[PAD]', '[PAD]', '[PAD]', '[PAD]', '[PAD]', '[PAD]', '[PAD]', '[PAD]', '[PAD]', '[PAD]', '[PAD]', '[PAD]', '[PAD]', '[PAD]', '[PAD]', '[PAD]', '[PAD]', '[PAD]', '[PAD]', '[PAD]', '[PAD]', '[PAD]', '[PAD]', '[PAD]', '[PAD]', '[PAD]', '[PAD]', '[PAD]', '[PAD]', '[PAD]', '[PAD]', '[PAD]', '[PAD]', '[PAD]', '[PAD]', '[PAD]', '[PAD]', '[PAD]', '[PAD]', '[PAD]', '[PAD]', '[PAD]', '[PAD]', '[PAD]', '[PAD]', '[PAD]', '[PAD]', '[PAD]', '[PAD]', '[PAD]', '[PAD]', '[PAD]', '[PAD]', '[PAD]', '[PAD]', '[PAD]', '[PAD]', '[PAD]', '[PAD]', '[PAD]', '[PAD]', '[PAD]', '[PAD]', '[PAD]', '[PAD]', '[PAD]', '[PAD]', '[PAD]', '[PAD]']\n",
            "tensor([1, 1, 1, 1, 1, 1, 1, 1, 1, 1, 1, 1, 1, 1, 1, 1, 0, 0, 0, 0, 0, 0, 0, 0,\n",
            "        0, 0, 0, 0, 0, 0, 0, 0, 0, 0, 0, 0, 0, 0, 0, 0, 0, 0, 0, 0, 0, 0, 0, 0,\n",
            "        0, 0, 0, 0, 0, 0, 0, 0, 0, 0, 0, 0, 0, 0, 0, 0, 0, 0, 0, 0, 0, 0, 0, 0,\n",
            "        0, 0, 0, 0, 0, 0, 0, 0, 0, 0, 0, 0, 0, 0, 0, 0, 0, 0, 0, 0, 0, 0, 0, 0,\n",
            "        0])\n",
            "tensor([  101,  2054,  2065,  8224, 22822,  8458,  2098,  2046,  8224,  2891,\n",
            "         1029,   102, 22822,  8458,  2098,   102,     0,     0,     0,     0,\n",
            "            0,     0,     0,     0,     0,     0,     0,     0,     0,     0,\n",
            "            0,     0,     0,     0,     0,     0,     0,     0,     0,     0,\n",
            "            0,     0,     0,     0,     0,     0,     0,     0,     0,     0,\n",
            "            0,     0,     0,     0,     0,     0,     0,     0,     0,     0,\n",
            "            0,     0,     0,     0,     0,     0,     0,     0,     0,     0,\n",
            "            0,     0,     0,     0,     0,     0,     0,     0,     0,     0,\n",
            "            0,     0,     0,     0,     0,     0,     0,     0,     0,     0,\n",
            "            0,     0,     0,     0,     0,     0,     0])\n",
            "[-100, 0, 0, 2, 0, 0, 0, 0, 4, 4, 0, -100, -100, -100, -100, -100, -100, -100, -100, -100, -100, -100, -100, -100, -100, -100, -100, -100, -100, -100, -100, -100, -100, -100, -100, -100, -100, -100, -100, -100, -100, -100, -100, -100, -100, -100, -100, -100, -100, -100, -100, -100, -100, -100, -100, -100, -100, -100, -100, -100, -100, -100, -100, -100, -100, -100, -100, -100, -100, -100, -100, -100, -100, -100, -100, -100, -100, -100, -100, -100, -100, -100, -100, -100, -100, -100, -100, -100, -100, -100, -100, -100, -100, -100, -100, -100, -100]\n"
          ]
        }
      ],
      "source": [
        "print(tokenizer.convert_ids_to_tokens(tokenized_test[\"input_ids\"][0]))\n",
        "print(tokenized_test[\"attention_mask\"][0])\n",
        "print(tokenized_test[\"input_ids\"][0])\n",
        "print(tokenized_test[\"labels\"][0])"
      ]
    },
    {
      "cell_type": "markdown",
      "metadata": {
        "id": "j31tpMcxYdFB"
      },
      "source": [
        "Confirming all the tokens contain a label and the attention mask also matches the length of the input"
      ]
    },
    {
      "cell_type": "code",
      "execution_count": 32,
      "metadata": {
        "colab": {
          "base_uri": "https://localhost:8080/"
        },
        "id": "Vp6JKWx6YdFC",
        "outputId": "baac2bc5-bbdb-4dcf-d708-464718dcaa0b"
      },
      "outputs": [
        {
          "name": "stdout",
          "output_type": "stream",
          "text": [
            "97 97 97\n"
          ]
        }
      ],
      "source": [
        "print(len(tokenized_test[\"input_ids\"][0]),len(tokenized_test[\"labels\"][0]),len(tokenized_test[\"attention_mask\"][0]))"
      ]
    },
    {
      "cell_type": "markdown",
      "metadata": {
        "id": "Uui9puOfYdFC"
      },
      "source": [
        "Converting the tokenized data to datasets format with the function `load_dataset`"
      ]
    },
    {
      "cell_type": "code",
      "execution_count": 33,
      "metadata": {
        "id": "kBKxTmz3YdFC"
      },
      "outputs": [],
      "source": [
        "dataset_train = load_dataset(tokenized_train)\n",
        "dataset_dev = load_dataset(tokenized_dev)\n",
        "dataset_test = load_dataset(tokenized_test)"
      ]
    },
    {
      "cell_type": "markdown",
      "metadata": {
        "id": "Q-Pl5GvcYdFC"
      },
      "source": [
        "## Fine-tuning the model"
      ]
    },
    {
      "cell_type": "markdown",
      "metadata": {
        "id": "q5yTu8JzYdFC"
      },
      "source": [
        "If the model is to be run with a smaller size of the data, reducing the size of the dataset for a mini test with the below cell."
      ]
    },
    {
      "cell_type": "code",
      "execution_count": 34,
      "metadata": {
        "id": "SLNvuvOvYdFD"
      },
      "outputs": [],
      "source": [
        "#small_train_dataset = dataset_train.shuffle(seed=42).select(range(1000))\n",
        "#small_eval_dataset = dataset_dev.shuffle(seed=42).select(range(1000))\n",
        "#small_test_dataset = dataset_test.shuffle(seed=42).select(range(1000))"
      ]
    },
    {
      "cell_type": "markdown",
      "metadata": {
        "id": "9BzGFWMKYdFE"
      },
      "source": [
        "Getting the labels that will be predicted by the model with the `get_labels_from_map`function"
      ]
    },
    {
      "cell_type": "code",
      "execution_count": 35,
      "metadata": {
        "id": "qGc0sBr1YdFE"
      },
      "outputs": [],
      "source": [
        "label_list = get_labels_from_map(label_map)"
      ]
    },
    {
      "cell_type": "markdown",
      "metadata": {
        "id": "XCsgWLXQYdFE"
      },
      "source": [
        "Loading the model for semantic role labelling task with function `load_srl_model` to get the model, its name and the arguments necessary for training. \\\n",
        "The model selected is **distilbert-base-uncased**"
      ]
    },
    {
      "cell_type": "code",
      "execution_count": 36,
      "metadata": {
        "colab": {
          "base_uri": "https://localhost:8080/",
          "height": 103,
          "referenced_widgets": [
            "679ec2c3ea6d4b34b037d03f3191e47b",
            "396674e8ce914ef0993ee401ca6a748b",
            "887ed7ab216b47c2aeea6ee5480b1f45",
            "f1e1fd56e6d04450b389568d13d2f004",
            "e073ccca16a541d1bb8f60105140a924",
            "b433ada7b8644d738e2946241fdd5537",
            "fac319d2c2a048dd96cdc0194d1834ee",
            "7e2d89cc14a44d43b51916619bdda029",
            "6c9e88a2e72046c5b475e02ee943ba2e",
            "73efdd763f944e459885fb3a6c37a7dc",
            "92217122f70c4873a9ad3caab5014f24"
          ]
        },
        "id": "t8OACqyhYdFF",
        "outputId": "1dad5a07-5e2a-4ab9-de10-08b51e8999ac"
      },
      "outputs": [
        {
          "data": {
            "application/vnd.jupyter.widget-view+json": {
              "model_id": "679ec2c3ea6d4b34b037d03f3191e47b",
              "version_major": 2,
              "version_minor": 0
            },
            "text/plain": [
              "model.safetensors:   0%|          | 0.00/268M [00:00<?, ?B/s]"
            ]
          },
          "metadata": {},
          "output_type": "display_data"
        },
        {
          "name": "stderr",
          "output_type": "stream",
          "text": [
            "Some weights of DistilBertForTokenClassification were not initialized from the model checkpoint at distilbert-base-uncased and are newly initialized: ['classifier.bias', 'classifier.weight']\n",
            "You should probably TRAIN this model on a down-stream task to be able to use it for predictions and inference.\n"
          ]
        }
      ],
      "source": [
        "model, model_name, args = load_srl_model(model_checkpoint, label_list)"
      ]
    },
    {
      "cell_type": "code",
      "execution_count": 37,
      "metadata": {
        "colab": {
          "base_uri": "https://localhost:8080/"
        },
        "id": "ZarjTK-RYdFF",
        "outputId": "8e781c1e-51e8-4367-a5bb-4f51c6b4e344"
      },
      "outputs": [
        {
          "name": "stdout",
          "output_type": "stream",
          "text": [
            "distilbert-base-uncased\n"
          ]
        }
      ],
      "source": [
        "print(model_name)"
      ]
    },
    {
      "cell_type": "markdown",
      "metadata": {
        "id": "SFTYKnm1YdFF"
      },
      "source": [
        "Passing the arguments along with the datasets to the `trainer` function to fine-tune the model for semantic role labelling with `trainer.train()`"
      ]
    },
    {
      "cell_type": "code",
      "execution_count": 38,
      "metadata": {
        "colab": {
          "base_uri": "https://localhost:8080/",
          "height": 528
        },
        "id": "tZVjfPfuYdFF",
        "outputId": "5fe05151-c90a-4c6c-db37-a833aa6bd04e"
      },
      "outputs": [
        {
          "data": {
            "text/html": [
              "\n",
              "    <div>\n",
              "      \n",
              "      <progress value='7593' max='7593' style='width:300px; height:20px; vertical-align: middle;'></progress>\n",
              "      [7593/7593 33:29, Epoch 3/3]\n",
              "    </div>\n",
              "    <table border=\"1\" class=\"dataframe\">\n",
              "  <thead>\n",
              " <tr style=\"text-align: left;\">\n",
              "      <th>Epoch</th>\n",
              "      <th>Training Loss</th>\n",
              "      <th>Validation Loss</th>\n",
              "      <th>Precision</th>\n",
              "      <th>Recall</th>\n",
              "      <th>F1</th>\n",
              "      <th>Accuracy</th>\n",
              "    </tr>\n",
              "  </thead>\n",
              "  <tbody>\n",
              "    <tr>\n",
              "      <td>1</td>\n",
              "      <td>0.127100</td>\n",
              "      <td>0.142947</td>\n",
              "      <td>0.364061</td>\n",
              "      <td>0.329676</td>\n",
              "      <td>0.330257</td>\n",
              "      <td>0.960291</td>\n",
              "    </tr>\n",
              "    <tr>\n",
              "      <td>2</td>\n",
              "      <td>0.096800</td>\n",
              "      <td>0.125784</td>\n",
              "      <td>0.416398</td>\n",
              "      <td>0.367692</td>\n",
              "      <td>0.376981</td>\n",
              "      <td>0.964362</td>\n",
              "    </tr>\n",
              "    <tr>\n",
              "      <td>3</td>\n",
              "      <td>0.084100</td>\n",
              "      <td>0.124459</td>\n",
              "      <td>0.424408</td>\n",
              "      <td>0.391904</td>\n",
              "      <td>0.399526</td>\n",
              "      <td>0.965291</td>\n",
              "    </tr>\n",
              "  </tbody>\n",
              "</table><p>"
            ],
            "text/plain": [
              "<IPython.core.display.HTML object>"
            ]
          },
          "metadata": {},
          "output_type": "display_data"
        },
        {
          "name": "stderr",
          "output_type": "stream",
          "text": [
            "/usr/local/lib/python3.10/dist-packages/sklearn/metrics/_classification.py:1344: UndefinedMetricWarning: Precision and F-score are ill-defined and being set to 0.0 in labels with no predicted samples. Use `zero_division` parameter to control this behavior.\n",
            "  _warn_prf(average, modifier, msg_start, len(result))\n",
            "/usr/local/lib/python3.10/dist-packages/sklearn/metrics/_classification.py:1344: UndefinedMetricWarning: Precision and F-score are ill-defined and being set to 0.0 in labels with no predicted samples. Use `zero_division` parameter to control this behavior.\n",
            "  _warn_prf(average, modifier, msg_start, len(result))\n",
            "/usr/local/lib/python3.10/dist-packages/sklearn/metrics/_classification.py:1344: UndefinedMetricWarning: Precision and F-score are ill-defined and being set to 0.0 in labels with no predicted samples. Use `zero_division` parameter to control this behavior.\n",
            "  _warn_prf(average, modifier, msg_start, len(result))\n",
            "/usr/local/lib/python3.10/dist-packages/sklearn/metrics/_classification.py:1344: UndefinedMetricWarning: Precision and F-score are ill-defined and being set to 0.0 in labels with no predicted samples. Use `zero_division` parameter to control this behavior.\n",
            "  _warn_prf(average, modifier, msg_start, len(result))\n",
            "/usr/local/lib/python3.10/dist-packages/sklearn/metrics/_classification.py:1344: UndefinedMetricWarning: Precision and F-score are ill-defined and being set to 0.0 in labels with no predicted samples. Use `zero_division` parameter to control this behavior.\n",
            "  _warn_prf(average, modifier, msg_start, len(result))\n",
            "/usr/local/lib/python3.10/dist-packages/sklearn/metrics/_classification.py:1344: UndefinedMetricWarning: Precision and F-score are ill-defined and being set to 0.0 in labels with no predicted samples. Use `zero_division` parameter to control this behavior.\n",
            "  _warn_prf(average, modifier, msg_start, len(result))\n",
            "/usr/local/lib/python3.10/dist-packages/sklearn/metrics/_classification.py:1344: UndefinedMetricWarning: Precision and F-score are ill-defined and being set to 0.0 in labels with no predicted samples. Use `zero_division` parameter to control this behavior.\n",
            "  _warn_prf(average, modifier, msg_start, len(result))\n",
            "/usr/local/lib/python3.10/dist-packages/sklearn/metrics/_classification.py:1344: UndefinedMetricWarning: Precision and F-score are ill-defined and being set to 0.0 in labels with no predicted samples. Use `zero_division` parameter to control this behavior.\n",
            "  _warn_prf(average, modifier, msg_start, len(result))\n",
            "/usr/local/lib/python3.10/dist-packages/sklearn/metrics/_classification.py:1344: UndefinedMetricWarning: Precision and F-score are ill-defined and being set to 0.0 in labels with no predicted samples. Use `zero_division` parameter to control this behavior.\n",
            "  _warn_prf(average, modifier, msg_start, len(result))\n"
          ]
        },
        {
          "data": {
            "text/plain": [
              "TrainOutput(global_step=7593, training_loss=0.1287919250100431, metrics={'train_runtime': 2010.6714, 'train_samples_per_second': 60.401, 'train_steps_per_second': 3.776, 'total_flos': 5615118349103484.0, 'train_loss': 0.1287919250100431, 'epoch': 3.0})"
            ]
          },
          "execution_count": 38,
          "metadata": {},
          "output_type": "execute_result"
        }
      ],
      "source": [
        "trainer = Trainer(\n",
        "        model,\n",
        "        args,\n",
        "        train_dataset=dataset_train,\n",
        "        eval_dataset=dataset_dev,\n",
        "        tokenizer=tokenizer,\n",
        "        compute_metrics=lambda p: compute_metrics(*p, label_list)\n",
        "    )\n",
        "trainer.train()"
      ]
    },
    {
      "cell_type": "markdown",
      "metadata": {
        "id": "iXZ8ro_iYdFF"
      },
      "source": [
        "Evaluate a model fine-tuned for semantic role labelling with `trainer.evaluate()`"
      ]
    },
    {
      "cell_type": "code",
      "execution_count": 39,
      "metadata": {
        "colab": {
          "base_uri": "https://localhost:8080/",
          "height": 312
        },
        "id": "XUpcBt68YdFG",
        "outputId": "b6adfd7c-786f-41aa-c9e8-a209a82c7ceb"
      },
      "outputs": [
        {
          "data": {
            "text/html": [
              "\n",
              "    <div>\n",
              "      \n",
              "      <progress value='312' max='312' style='width:300px; height:20px; vertical-align: middle;'></progress>\n",
              "      [312/312 00:13]\n",
              "    </div>\n",
              "    "
            ],
            "text/plain": [
              "<IPython.core.display.HTML object>"
            ]
          },
          "metadata": {},
          "output_type": "display_data"
        },
        {
          "name": "stderr",
          "output_type": "stream",
          "text": [
            "/usr/local/lib/python3.10/dist-packages/sklearn/metrics/_classification.py:1344: UndefinedMetricWarning: Precision and F-score are ill-defined and being set to 0.0 in labels with no predicted samples. Use `zero_division` parameter to control this behavior.\n",
            "  _warn_prf(average, modifier, msg_start, len(result))\n",
            "/usr/local/lib/python3.10/dist-packages/sklearn/metrics/_classification.py:1344: UndefinedMetricWarning: Precision and F-score are ill-defined and being set to 0.0 in labels with no predicted samples. Use `zero_division` parameter to control this behavior.\n",
            "  _warn_prf(average, modifier, msg_start, len(result))\n",
            "/usr/local/lib/python3.10/dist-packages/sklearn/metrics/_classification.py:1344: UndefinedMetricWarning: Precision and F-score are ill-defined and being set to 0.0 in labels with no predicted samples. Use `zero_division` parameter to control this behavior.\n",
            "  _warn_prf(average, modifier, msg_start, len(result))\n"
          ]
        },
        {
          "data": {
            "text/plain": [
              "{'eval_loss': 0.12445865571498871,\n",
              " 'eval_precision': 0.4244081146244632,\n",
              " 'eval_recall': 0.3919038696272433,\n",
              " 'eval_f1': 0.39952554037676824,\n",
              " 'eval_accuracy': 0.9652914041791456,\n",
              " 'eval_runtime': 15.8633,\n",
              " 'eval_samples_per_second': 313.742,\n",
              " 'eval_steps_per_second': 19.668,\n",
              " 'epoch': 3.0}"
            ]
          },
          "execution_count": 39,
          "metadata": {},
          "output_type": "execute_result"
        }
      ],
      "source": [
        "trainer.evaluate()"
      ]
    },
    {
      "cell_type": "markdown",
      "metadata": {
        "id": "j9NFI6DmYdFG"
      },
      "source": [
        "After training is finished, the precision/recall/f1 for each category can be computed. \\\n",
        "The same function `compute_metrics` is applied on the result of the predict method."
      ]
    },
    {
      "cell_type": "code",
      "execution_count": 40,
      "metadata": {
        "colab": {
          "base_uri": "https://localhost:8080/",
          "height": 309
        },
        "id": "tMNBhvOcYdFG",
        "outputId": "e8e1fdbc-9582-4e86-caff-2ddee61aebba"
      },
      "outputs": [
        {
          "data": {
            "text/html": [],
            "text/plain": [
              "<IPython.core.display.HTML object>"
            ]
          },
          "metadata": {},
          "output_type": "display_data"
        },
        {
          "name": "stderr",
          "output_type": "stream",
          "text": [
            "/usr/local/lib/python3.10/dist-packages/sklearn/metrics/_classification.py:1344: UndefinedMetricWarning: Precision and F-score are ill-defined and being set to 0.0 in labels with no predicted samples. Use `zero_division` parameter to control this behavior.\n",
            "  _warn_prf(average, modifier, msg_start, len(result))\n",
            "/usr/local/lib/python3.10/dist-packages/sklearn/metrics/_classification.py:1344: UndefinedMetricWarning: Precision and F-score are ill-defined and being set to 0.0 in labels with no predicted samples. Use `zero_division` parameter to control this behavior.\n",
            "  _warn_prf(average, modifier, msg_start, len(result))\n",
            "/usr/local/lib/python3.10/dist-packages/sklearn/metrics/_classification.py:1344: UndefinedMetricWarning: Precision and F-score are ill-defined and being set to 0.0 in labels with no predicted samples. Use `zero_division` parameter to control this behavior.\n",
            "  _warn_prf(average, modifier, msg_start, len(result))\n",
            "/usr/local/lib/python3.10/dist-packages/sklearn/metrics/_classification.py:1344: UndefinedMetricWarning: Precision and F-score are ill-defined and being set to 0.0 in labels with no predicted samples. Use `zero_division` parameter to control this behavior.\n",
            "  _warn_prf(average, modifier, msg_start, len(result))\n",
            "/usr/local/lib/python3.10/dist-packages/sklearn/metrics/_classification.py:1344: UndefinedMetricWarning: Precision and F-score are ill-defined and being set to 0.0 in labels with no predicted samples. Use `zero_division` parameter to control this behavior.\n",
            "  _warn_prf(average, modifier, msg_start, len(result))\n",
            "/usr/local/lib/python3.10/dist-packages/sklearn/metrics/_classification.py:1344: UndefinedMetricWarning: Precision and F-score are ill-defined and being set to 0.0 in labels with no predicted samples. Use `zero_division` parameter to control this behavior.\n",
            "  _warn_prf(average, modifier, msg_start, len(result))\n"
          ]
        },
        {
          "data": {
            "text/plain": [
              "{'precision': 0.42951477322261544,\n",
              " 'recall': 0.4030070005307468,\n",
              " 'f1': 0.4036396071913792,\n",
              " 'accuracy': 0.9663773918794519}"
            ]
          },
          "execution_count": 40,
          "metadata": {},
          "output_type": "execute_result"
        }
      ],
      "source": [
        "predictions, labels, _ = trainer.predict(dataset_test)\n",
        "results = compute_metrics(predictions, labels, label_list)\n",
        "results"
      ]
    },
    {
      "cell_type": "markdown",
      "metadata": {
        "id": "DrvtvLY9YdFG"
      },
      "source": [
        "Writing the predictions together with the gold labels to a csv file with the function `write_predictions_to_csv` so that the metrics per class can be computed with the `compute_evaluation_metrics_from_csv` function."
      ]
    },
    {
      "cell_type": "code",
      "execution_count": 41,
      "metadata": {
        "colab": {
          "base_uri": "https://localhost:8080/"
        },
        "id": "L8J6utkmYdFG",
        "outputId": "a4aa0356-2014-411b-f995-2822ee434e6f"
      },
      "outputs": [
        {
          "name": "stderr",
          "output_type": "stream",
          "text": [
            "/usr/local/lib/python3.10/dist-packages/sklearn/metrics/_classification.py:1344: UndefinedMetricWarning: Recall and F-score are ill-defined and being set to 0.0 in labels with no true samples. Use `zero_division` parameter to control this behavior.\n",
            "  _warn_prf(average, modifier, msg_start, len(result))\n",
            "/usr/local/lib/python3.10/dist-packages/sklearn/metrics/_classification.py:1344: UndefinedMetricWarning: Recall and F-score are ill-defined and being set to 0.0 in labels with no true samples. Use `zero_division` parameter to control this behavior.\n",
            "  _warn_prf(average, modifier, msg_start, len(result))\n"
          ]
        },
        {
          "name": "stdout",
          "output_type": "stream",
          "text": [
            "              precision    recall  f1-score   support\n",
            "\n",
            "        ARG0       0.87      0.81      0.84      2023\n",
            "        ARG1       0.84      0.81      0.82      3750\n",
            "    ARG1-DSP       0.00      0.00      0.00         0\n",
            "        ARG2       0.70      0.69      0.70      1309\n",
            "        ARG3       0.01      0.25      0.02         4\n",
            "        ARG4       0.59      0.62      0.61        64\n",
            "        ARG5       0.00      0.00      0.00         0\n",
            "        ARGA       0.00      0.00      0.00         0\n",
            "    ARGM-ADJ       0.76      0.74      0.75       261\n",
            "    ARGM-ADV       0.55      0.67      0.61       429\n",
            "    ARGM-CAU       0.58      0.52      0.55        54\n",
            "    ARGM-COM       0.25      0.57      0.35         7\n",
            "    ARGM-CXN       0.50      0.75      0.60         8\n",
            "    ARGM-DIR       0.36      0.49      0.41        35\n",
            "    ARGM-DIS       0.72      0.74      0.73       191\n",
            "    ARGM-EXT       0.76      0.75      0.76       106\n",
            "    ARGM-GOL       0.07      0.67      0.12         3\n",
            "    ARGM-LOC       0.64      0.57      0.60       290\n",
            "    ARGM-LVB       0.74      0.70      0.72        73\n",
            "    ARGM-MNR       0.52      0.59      0.55       144\n",
            "    ARGM-MOD       0.94      0.89      0.91       499\n",
            "    ARGM-NEG       0.96      0.87      0.91       435\n",
            "    ARGM-PRD       0.20      0.43      0.27        23\n",
            "    ARGM-PRP       0.61      0.55      0.58        91\n",
            "    ARGM-PRR       0.65      0.67      0.66        75\n",
            "    ARGM-TMP       0.81      0.72      0.77       658\n",
            "      C-ARG0       0.00      0.00      0.00         0\n",
            "      C-ARG1       0.54      0.58      0.56        53\n",
            "  C-ARG1-DSP       0.00      0.00      0.00         0\n",
            "      C-ARG2       0.00      0.00      0.00         0\n",
            "      C-ARG3       0.00      0.00      0.00         0\n",
            "  C-ARGM-CXN       0.00      0.00      0.00         0\n",
            "  C-ARGM-LOC       0.00      0.00      0.00         0\n",
            "      R-ARG0       0.90      0.90      0.90        67\n",
            "      R-ARG1       0.83      0.64      0.72        67\n",
            "      R-ARG2       0.00      0.00      0.00         0\n",
            "  R-ARGM-ADJ       0.00      0.00      0.00         0\n",
            "  R-ARGM-ADV       0.00      0.00      0.00         0\n",
            "  R-ARGM-DIR       0.00      0.00      0.00         0\n",
            "  R-ARGM-LOC       0.44      0.29      0.35        14\n",
            "  R-ARGM-MNR       0.00      0.00      0.00         0\n",
            "  R-ARGM-TMP       0.00      0.00      0.00         0\n",
            "           _       0.99      0.99      0.99    101156\n",
            "\n",
            "    accuracy                           0.97    111889\n",
            "   macro avg       0.40      0.43      0.40    111889\n",
            "weighted avg       0.97      0.97      0.97    111889\n",
            "\n"
          ]
        },
        {
          "name": "stderr",
          "output_type": "stream",
          "text": [
            "/usr/local/lib/python3.10/dist-packages/sklearn/metrics/_classification.py:1344: UndefinedMetricWarning: Recall and F-score are ill-defined and being set to 0.0 in labels with no true samples. Use `zero_division` parameter to control this behavior.\n",
            "  _warn_prf(average, modifier, msg_start, len(result))\n"
          ]
        }
      ],
      "source": [
        "results_file = \"predictions.csv\"\n",
        "write_predictions_to_csv(predictions, labels, label_list, results_file)\n",
        "classification_report = compute_evaluation_metrics_from_csv(\"predictions.csv\")\n",
        "print(classification_report)"
      ]
    },
    {
      "cell_type": "markdown",
      "metadata": {
        "id": "9rBk6GBWYdFG"
      },
      "source": [
        "Then, we save fine-tuned model."
      ]
    },
    {
      "cell_type": "code",
      "execution_count": 42,
      "metadata": {
        "id": "Cni2yCZiYdFG"
      },
      "outputs": [],
      "source": [
        "# Use these codes to save model:\n",
        "tokenizer.save_pretrained(\"tokenizer.save_pretrained.distillbert-base-uncased-finetuned-srl\")\n",
        "trainer.save_model(\"trainer.save_model.distillbert-base-uncased-finetuned-srl\")\n",
        "model.save_pretrained(\"model.save_pretrained.distillbert-base-uncased-finetuned-srl\")"
      ]
    },
    {
      "cell_type": "code",
      "execution_count": 45,
      "metadata": {
        "id": "avWiTIQcjubr"
      },
      "outputs": [],
      "source": [
        "!mkdir -p \"/content/drive/MyDrive/NLP_3_baseline_model/model\""
      ]
    },
    {
      "cell_type": "markdown",
      "metadata": {
        "id": "oY5FrTUyacMK"
      },
      "source": [
        "Here, we copy saved model to google drive."
      ]
    },
    {
      "cell_type": "code",
      "execution_count": 46,
      "metadata": {
        "id": "2ussrq_FYdFH"
      },
      "outputs": [],
      "source": [
        "!cp -r '/content/trainer.save_model.distillbert-base-uncased-finetuned-srl' '/content/drive/MyDrive/NLP_3_baseline_model/model'\n",
        "!cp -r '/content/model.save_pretrained.distillbert-base-uncased-finetuned-srl' '/content/drive/MyDrive/NLP_3_baseline_model/model'\n",
        "!cp -r '/content/tokenizer.save_pretrained.distillbert-base-uncased-finetuned-srl' '/content/drive/MyDrive/NLP_3_baseline_model/model'"
      ]
    },
    {
      "cell_type": "markdown",
      "metadata": {
        "id": "AGd8F8QGYdFH"
      },
      "source": [
        "## Group Contribution:"
      ]
    },
    {
      "cell_type": "markdown",
      "metadata": {
        "id": "2HHdp36FYdFH"
      },
      "source": [
        "##### Ariana Britez:\n",
        "- functions to map the labels to number for model input: get_label_mapping, map_labels_to_numbers, map_labels_in_dataframe\n",
        "- function to get the list of labels for model input: get_labels_from_map\n",
        "- function to compute the metrics during training, evaluation and inference: compute_metrics, compute_evaluation_metrics_from_csv\n",
        "- function to load the transformer model for fine-tuning: load_srl_model\n",
        "- function to load the dataset in format that model can handle: load_dataset\n",
        "- function to save the model predictions with gold labels for evaluation: write_predictions_to_csv\n",
        "- writing markdown from importing the model section until evaluation of the baseline model"
      ]
    },
    {
      "cell_type": "code",
      "execution_count": null,
      "metadata": {
        "id": "6bzdi4I5YdFI"
      },
      "outputs": [],
      "source": []
    }
  ],
  "metadata": {
    "accelerator": "GPU",
    "colab": {
      "gpuType": "T4",
      "provenance": []
    },
    "kernelspec": {
      "display_name": "Python 3",
      "name": "python3"
    },
    "language_info": {
      "codemirror_mode": {
        "name": "ipython",
        "version": 3
      },
      "file_extension": ".py",
      "mimetype": "text/x-python",
      "name": "python",
      "nbconvert_exporter": "python",
      "pygments_lexer": "ipython3",
      "version": "3.9.6"
    },
    "widgets": {
      "application/vnd.jupyter.widget-state+json": {
        "396674e8ce914ef0993ee401ca6a748b": {
          "model_module": "@jupyter-widgets/controls",
          "model_module_version": "1.5.0",
          "model_name": "HTMLModel",
          "state": {
            "_dom_classes": [],
            "_model_module": "@jupyter-widgets/controls",
            "_model_module_version": "1.5.0",
            "_model_name": "HTMLModel",
            "_view_count": null,
            "_view_module": "@jupyter-widgets/controls",
            "_view_module_version": "1.5.0",
            "_view_name": "HTMLView",
            "description": "",
            "description_tooltip": null,
            "layout": "IPY_MODEL_b433ada7b8644d738e2946241fdd5537",
            "placeholder": "​",
            "style": "IPY_MODEL_fac319d2c2a048dd96cdc0194d1834ee",
            "value": "model.safetensors: 100%"
          }
        },
        "679ec2c3ea6d4b34b037d03f3191e47b": {
          "model_module": "@jupyter-widgets/controls",
          "model_module_version": "1.5.0",
          "model_name": "HBoxModel",
          "state": {
            "_dom_classes": [],
            "_model_module": "@jupyter-widgets/controls",
            "_model_module_version": "1.5.0",
            "_model_name": "HBoxModel",
            "_view_count": null,
            "_view_module": "@jupyter-widgets/controls",
            "_view_module_version": "1.5.0",
            "_view_name": "HBoxView",
            "box_style": "",
            "children": [
              "IPY_MODEL_396674e8ce914ef0993ee401ca6a748b",
              "IPY_MODEL_887ed7ab216b47c2aeea6ee5480b1f45",
              "IPY_MODEL_f1e1fd56e6d04450b389568d13d2f004"
            ],
            "layout": "IPY_MODEL_e073ccca16a541d1bb8f60105140a924"
          }
        },
        "6c9e88a2e72046c5b475e02ee943ba2e": {
          "model_module": "@jupyter-widgets/controls",
          "model_module_version": "1.5.0",
          "model_name": "ProgressStyleModel",
          "state": {
            "_model_module": "@jupyter-widgets/controls",
            "_model_module_version": "1.5.0",
            "_model_name": "ProgressStyleModel",
            "_view_count": null,
            "_view_module": "@jupyter-widgets/base",
            "_view_module_version": "1.2.0",
            "_view_name": "StyleView",
            "bar_color": null,
            "description_width": ""
          }
        },
        "73efdd763f944e459885fb3a6c37a7dc": {
          "model_module": "@jupyter-widgets/base",
          "model_module_version": "1.2.0",
          "model_name": "LayoutModel",
          "state": {
            "_model_module": "@jupyter-widgets/base",
            "_model_module_version": "1.2.0",
            "_model_name": "LayoutModel",
            "_view_count": null,
            "_view_module": "@jupyter-widgets/base",
            "_view_module_version": "1.2.0",
            "_view_name": "LayoutView",
            "align_content": null,
            "align_items": null,
            "align_self": null,
            "border": null,
            "bottom": null,
            "display": null,
            "flex": null,
            "flex_flow": null,
            "grid_area": null,
            "grid_auto_columns": null,
            "grid_auto_flow": null,
            "grid_auto_rows": null,
            "grid_column": null,
            "grid_gap": null,
            "grid_row": null,
            "grid_template_areas": null,
            "grid_template_columns": null,
            "grid_template_rows": null,
            "height": null,
            "justify_content": null,
            "justify_items": null,
            "left": null,
            "margin": null,
            "max_height": null,
            "max_width": null,
            "min_height": null,
            "min_width": null,
            "object_fit": null,
            "object_position": null,
            "order": null,
            "overflow": null,
            "overflow_x": null,
            "overflow_y": null,
            "padding": null,
            "right": null,
            "top": null,
            "visibility": null,
            "width": null
          }
        },
        "7e2d89cc14a44d43b51916619bdda029": {
          "model_module": "@jupyter-widgets/base",
          "model_module_version": "1.2.0",
          "model_name": "LayoutModel",
          "state": {
            "_model_module": "@jupyter-widgets/base",
            "_model_module_version": "1.2.0",
            "_model_name": "LayoutModel",
            "_view_count": null,
            "_view_module": "@jupyter-widgets/base",
            "_view_module_version": "1.2.0",
            "_view_name": "LayoutView",
            "align_content": null,
            "align_items": null,
            "align_self": null,
            "border": null,
            "bottom": null,
            "display": null,
            "flex": null,
            "flex_flow": null,
            "grid_area": null,
            "grid_auto_columns": null,
            "grid_auto_flow": null,
            "grid_auto_rows": null,
            "grid_column": null,
            "grid_gap": null,
            "grid_row": null,
            "grid_template_areas": null,
            "grid_template_columns": null,
            "grid_template_rows": null,
            "height": null,
            "justify_content": null,
            "justify_items": null,
            "left": null,
            "margin": null,
            "max_height": null,
            "max_width": null,
            "min_height": null,
            "min_width": null,
            "object_fit": null,
            "object_position": null,
            "order": null,
            "overflow": null,
            "overflow_x": null,
            "overflow_y": null,
            "padding": null,
            "right": null,
            "top": null,
            "visibility": null,
            "width": null
          }
        },
        "887ed7ab216b47c2aeea6ee5480b1f45": {
          "model_module": "@jupyter-widgets/controls",
          "model_module_version": "1.5.0",
          "model_name": "FloatProgressModel",
          "state": {
            "_dom_classes": [],
            "_model_module": "@jupyter-widgets/controls",
            "_model_module_version": "1.5.0",
            "_model_name": "FloatProgressModel",
            "_view_count": null,
            "_view_module": "@jupyter-widgets/controls",
            "_view_module_version": "1.5.0",
            "_view_name": "ProgressView",
            "bar_style": "success",
            "description": "",
            "description_tooltip": null,
            "layout": "IPY_MODEL_7e2d89cc14a44d43b51916619bdda029",
            "max": 267954768,
            "min": 0,
            "orientation": "horizontal",
            "style": "IPY_MODEL_6c9e88a2e72046c5b475e02ee943ba2e",
            "value": 267954768
          }
        },
        "92217122f70c4873a9ad3caab5014f24": {
          "model_module": "@jupyter-widgets/controls",
          "model_module_version": "1.5.0",
          "model_name": "DescriptionStyleModel",
          "state": {
            "_model_module": "@jupyter-widgets/controls",
            "_model_module_version": "1.5.0",
            "_model_name": "DescriptionStyleModel",
            "_view_count": null,
            "_view_module": "@jupyter-widgets/base",
            "_view_module_version": "1.2.0",
            "_view_name": "StyleView",
            "description_width": ""
          }
        },
        "b433ada7b8644d738e2946241fdd5537": {
          "model_module": "@jupyter-widgets/base",
          "model_module_version": "1.2.0",
          "model_name": "LayoutModel",
          "state": {
            "_model_module": "@jupyter-widgets/base",
            "_model_module_version": "1.2.0",
            "_model_name": "LayoutModel",
            "_view_count": null,
            "_view_module": "@jupyter-widgets/base",
            "_view_module_version": "1.2.0",
            "_view_name": "LayoutView",
            "align_content": null,
            "align_items": null,
            "align_self": null,
            "border": null,
            "bottom": null,
            "display": null,
            "flex": null,
            "flex_flow": null,
            "grid_area": null,
            "grid_auto_columns": null,
            "grid_auto_flow": null,
            "grid_auto_rows": null,
            "grid_column": null,
            "grid_gap": null,
            "grid_row": null,
            "grid_template_areas": null,
            "grid_template_columns": null,
            "grid_template_rows": null,
            "height": null,
            "justify_content": null,
            "justify_items": null,
            "left": null,
            "margin": null,
            "max_height": null,
            "max_width": null,
            "min_height": null,
            "min_width": null,
            "object_fit": null,
            "object_position": null,
            "order": null,
            "overflow": null,
            "overflow_x": null,
            "overflow_y": null,
            "padding": null,
            "right": null,
            "top": null,
            "visibility": null,
            "width": null
          }
        },
        "e073ccca16a541d1bb8f60105140a924": {
          "model_module": "@jupyter-widgets/base",
          "model_module_version": "1.2.0",
          "model_name": "LayoutModel",
          "state": {
            "_model_module": "@jupyter-widgets/base",
            "_model_module_version": "1.2.0",
            "_model_name": "LayoutModel",
            "_view_count": null,
            "_view_module": "@jupyter-widgets/base",
            "_view_module_version": "1.2.0",
            "_view_name": "LayoutView",
            "align_content": null,
            "align_items": null,
            "align_self": null,
            "border": null,
            "bottom": null,
            "display": null,
            "flex": null,
            "flex_flow": null,
            "grid_area": null,
            "grid_auto_columns": null,
            "grid_auto_flow": null,
            "grid_auto_rows": null,
            "grid_column": null,
            "grid_gap": null,
            "grid_row": null,
            "grid_template_areas": null,
            "grid_template_columns": null,
            "grid_template_rows": null,
            "height": null,
            "justify_content": null,
            "justify_items": null,
            "left": null,
            "margin": null,
            "max_height": null,
            "max_width": null,
            "min_height": null,
            "min_width": null,
            "object_fit": null,
            "object_position": null,
            "order": null,
            "overflow": null,
            "overflow_x": null,
            "overflow_y": null,
            "padding": null,
            "right": null,
            "top": null,
            "visibility": null,
            "width": null
          }
        },
        "f1e1fd56e6d04450b389568d13d2f004": {
          "model_module": "@jupyter-widgets/controls",
          "model_module_version": "1.5.0",
          "model_name": "HTMLModel",
          "state": {
            "_dom_classes": [],
            "_model_module": "@jupyter-widgets/controls",
            "_model_module_version": "1.5.0",
            "_model_name": "HTMLModel",
            "_view_count": null,
            "_view_module": "@jupyter-widgets/controls",
            "_view_module_version": "1.5.0",
            "_view_name": "HTMLView",
            "description": "",
            "description_tooltip": null,
            "layout": "IPY_MODEL_73efdd763f944e459885fb3a6c37a7dc",
            "placeholder": "​",
            "style": "IPY_MODEL_92217122f70c4873a9ad3caab5014f24",
            "value": " 268M/268M [00:02&lt;00:00, 83.6MB/s]"
          }
        },
        "fac319d2c2a048dd96cdc0194d1834ee": {
          "model_module": "@jupyter-widgets/controls",
          "model_module_version": "1.5.0",
          "model_name": "DescriptionStyleModel",
          "state": {
            "_model_module": "@jupyter-widgets/controls",
            "_model_module_version": "1.5.0",
            "_model_name": "DescriptionStyleModel",
            "_view_count": null,
            "_view_module": "@jupyter-widgets/base",
            "_view_module_version": "1.2.0",
            "_view_name": "StyleView",
            "description_width": ""
          }
        }
      }
    }
  },
  "nbformat": 4,
  "nbformat_minor": 0
}
