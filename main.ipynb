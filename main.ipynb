{
  "cells": [
    {
      "cell_type": "markdown",
      "metadata": {},
      "source": [
        "# Semantic role labeling with BERT\n",
        "\n",
        "In this notebook, you'll perform semantic role labeling with BERT, using the Universal Propbank dataset."
      ]
    },
    {
      "cell_type": "markdown",
      "metadata": {},
      "source": [
        "## Before you begin\n",
        "\n",
        "### Install libraries\n",
        "\n",
        "Uncomment and run the following cells to install the required pip packages, for example when running the notebook in [colab](https://colab.research.google.com)."
      ]
    },
    {
      "cell_type": "code",
      "execution_count": null,
      "metadata": {
        "id": "azvd-qydoSjq"
      },
      "outputs": [],
      "source": [
        "# !pip install datasets\n",
        "# !pip install seqeval\n",
        "# !pip install accelerate==0.21.0\n",
        "# !pip install transformers[torch]\n",
        "# !pip install accelerate -U"
      ]
    },
    {
      "cell_type": "markdown",
      "metadata": {
        "id": "paAVq25AkUoc"
      },
      "source": [
        "### Import libraries"
      ]
    },
    {
      "cell_type": "code",
      "execution_count": null,
      "metadata": {
        "id": "u8VbzlMekUod"
      },
      "outputs": [],
      "source": [
        "import time\n",
        "import pandas as pd\n",
        "import transformers\n",
        "import numpy as np\n",
        "from transformers import AutoTokenizer,AutoModelForTokenClassification, TrainingArguments, Trainer, DataCollatorForTokenClassification\n",
        "from datasets import load_metric\n",
        "from datasets import Dataset\n",
        "from utils import read_data_as_sentence,map_labels_in_dataframe,tokenize_and_align_labels,get_label_mapping,get_labels_from_map,load_srl_model,load_dataset,compute_metrics,write_predictions_to_csv,compute_evaluation_metrics_from_csv"
      ]
    },
    {
      "cell_type": "markdown",
      "metadata": {
        "id": "CPqKu0URkUoe"
      },
      "source": [
        "## Step 1: Preprocess data"
      ]
    },
    {
      "cell_type": "markdown",
      "metadata": {
        "id": "ZquT_a7xkUof"
      },
      "source": [
        "Before you can train the model, you need to extract sentences from the training, development and test datasets, and preprocess the sentences.\n",
        "\n",
        "To preprocess the datase and save the resulting DataFrame to a file, call the `read_data_as_sentence()` function, including:\n",
        "\n",
        "| Parameter name     | Required | Parameter description |\n",
        "|--------------------|:--------------:|-------------|\n",
        "| *positional 1*                   | ✅️ | The filepath for the CoNNLU dataset. |\n",
        "| *positional 2*                 | ✅ | The filepath to write the preprocessed DataFrame to. |"
      ]
    },
    {
      "cell_type": "code",
      "execution_count": null,
      "metadata": {
        "id": "oDHf8YvpkUof"
      },
      "outputs": [],
      "source": [
        "train_data = read_data_as_sentence('data/en_ewt-up-train.conllu', 'data/en_ewt-up-train.preprocessed.csv')\n",
        "dev_data = read_data_as_sentence('data/en_ewt-up-dev.conllu', 'data/en_ewt-up-dev.preprocessed.csv')\n",
        "test_data = read_data_as_sentence('data/en_ewt-up-test.conllu', 'data/en_ewt-up-test.preprocessed.csv')"
      ]
    },
    {
      "cell_type": "markdown",
      "metadata": {
        "id": "ycGwfyhPkUof"
      },
      "source": [
        "The `read_data_as_sentence()` function returns DataFrames, where each row represents a sentence from the dataset passed to the function. Each sentence has been expanded based on its predicates, resulting in multiple copies of the same sentence, each focused on a different predicate.\n",
        "\n",
        "The DataFrame has two columns:\n",
        "\n",
        "- `input_form`: a list of strings, where each string represents a words in the sentence, followed by two special tokens:\n",
        "    1. A special token (`[SEP]`), which denotes the separation between the words of the sentence and the predicate form. \n",
        "    2. The predicate form, which corresponds to the `argument` values for the same row in the DataFrame.\n",
        "- `argument`: a list of strings, representing the arguments associated with each word in the sentence. The length of each list is equal to the number of words in the sentence, plus two additional elements, for the special token and predicate form. The arguments match the predicate appended to the `input_form` for the same row in the DataFrame."
      ]
    },
    {
      "cell_type": "markdown",
      "metadata": {},
      "source": [
        "### Explore the DataFrame\n",
        "\n",
        "To explore the DataFrame, print the head of the preprocessed DataFrame:"
      ]
    },
    {
      "cell_type": "code",
      "execution_count": 37,
      "metadata": {},
      "outputs": [
        {
          "name": "stdout",
          "output_type": "stream",
          "text": [
            "<class 'pandas.core.frame.DataFrame'>\n",
            "RangeIndex: 4799 entries, 0 to 4798\n",
            "Data columns (total 2 columns):\n",
            " #   Column      Non-Null Count  Dtype \n",
            "---  ------      --------------  ----- \n",
            " 0   input_form  4799 non-null   object\n",
            " 1   argument    4799 non-null   object\n",
            "dtypes: object(2)\n",
            "memory usage: 75.1+ KB\n",
            "None\n"
          ]
        }
      ],
      "source": [
        "print(test_data.info())"
      ]
    },
    {
      "cell_type": "markdown",
      "metadata": {
        "id": "r1Fki50OkUog"
      },
      "source": [
        "The **Non-Null** count for both columns should match, indicating there are as many lists of `input_form` values as there are lists of `argument` values.\n",
        "\n",
        "Next, print the words and their argument labels for the first 20 sentences of the test dataset:"
      ]
    },
    {
      "cell_type": "code",
      "execution_count": 48,
      "metadata": {
        "colab": {
          "base_uri": "https://localhost:8080/"
        },
        "id": "7H8QTMlHkUoh",
        "outputId": "5a58240c-0137-4da2-cb6e-845d1fe3b54c"
      },
      "outputs": [
        {
          "name": "stdout",
          "output_type": "stream",
          "text": [
            "form: What            argument: _\n",
            "form: if              argument: _\n",
            "form: Google          argument: ARG1\n",
            "form: Morphed         argument: _\n",
            "form: Into            argument: _\n",
            "form: GoogleOS        argument: ARG2\n",
            "form: ?               argument: _\n",
            "----------------------------------------\n",
            "form: [SEP]           argument: None\n",
            "form: Morphed         argument: None\n",
            "\n",
            "========================================\n",
            "\n",
            "form: What            argument: _\n",
            "form: if              argument: _\n",
            "form: Google          argument: ARG0\n",
            "form: expanded        argument: _\n",
            "form: on              argument: _\n",
            "form: its             argument: _\n",
            "form: search          argument: _\n",
            "form: -               argument: _\n",
            "form: engine          argument: _\n",
            "form: (               argument: _\n",
            "form: and             argument: _\n",
            "form: now             argument: _\n",
            "form: e-mail          argument: _\n",
            "form: )               argument: _\n",
            "form: wares           argument: ARG1\n",
            "form: into            argument: _\n",
            "form: a               argument: _\n",
            "form: full            argument: _\n",
            "form: -               argument: _\n",
            "form: fledged         argument: _\n",
            "form: operating       argument: _\n",
            "form: system          argument: ARG4\n",
            "form: ?               argument: _\n",
            "----------------------------------------\n",
            "form: [SEP]           argument: None\n",
            "form: expanded        argument: None\n",
            "\n",
            "========================================\n",
            "\n",
            "form: (               argument: _\n",
            "form: And             argument: _\n",
            "form: ,               argument: _\n",
            "form: by              argument: _\n",
            "form: the             argument: _\n",
            "form: way             argument: _\n",
            "form: ,               argument: _\n",
            "form: is              argument: _\n",
            "form: anybody         argument: _\n",
            "form: else            argument: _\n",
            "form: just            argument: _\n",
            "form: a               argument: _\n",
            "form: little          argument: _\n",
            "form: nostalgic       argument: _\n",
            "form: for             argument: _\n",
            "form: the             argument: _\n",
            "form: days            argument: _\n",
            "form: when            argument: _\n",
            "form: that            argument: _\n",
            "form: was             argument: _\n",
            "form: a               argument: _\n",
            "form: good            argument: _\n",
            "form: thing           argument: _\n",
            "form: ?               argument: _\n",
            "form: )               argument: _\n",
            "----------------------------------------\n",
            "form: [SEP]           argument: None\n",
            "form: way             argument: None\n",
            "\n",
            "========================================\n",
            "\n",
            "form: (               argument: _\n",
            "form: And             argument: _\n",
            "form: ,               argument: _\n",
            "form: by              argument: _\n",
            "form: the             argument: _\n",
            "form: way             argument: ARGM-DIS\n",
            "form: ,               argument: _\n",
            "form: is              argument: _\n",
            "form: anybody         argument: ARG1\n",
            "form: else            argument: _\n",
            "form: just            argument: _\n",
            "form: a               argument: _\n",
            "form: little          argument: _\n",
            "form: nostalgic       argument: ARG2\n",
            "form: for             argument: _\n",
            "form: the             argument: _\n",
            "form: days            argument: _\n",
            "form: when            argument: _\n",
            "form: that            argument: _\n",
            "form: was             argument: _\n",
            "form: a               argument: _\n",
            "form: good            argument: _\n",
            "form: thing           argument: _\n",
            "form: ?               argument: _\n",
            "form: )               argument: _\n",
            "----------------------------------------\n",
            "form: [SEP]           argument: None\n",
            "form: is              argument: None\n",
            "\n",
            "========================================\n",
            "\n",
            "form: (               argument: _\n",
            "form: And             argument: _\n",
            "form: ,               argument: _\n",
            "form: by              argument: _\n",
            "form: the             argument: _\n",
            "form: way             argument: _\n",
            "form: ,               argument: _\n",
            "form: is              argument: _\n",
            "form: anybody         argument: _\n",
            "form: else            argument: _\n",
            "form: just            argument: _\n",
            "form: a               argument: _\n",
            "form: little          argument: _\n",
            "form: nostalgic       argument: _\n",
            "form: for             argument: _\n",
            "form: the             argument: _\n",
            "form: days            argument: ARGM-TMP\n",
            "form: when            argument: R-ARGM-TMP\n",
            "form: that            argument: ARG1\n",
            "form: was             argument: _\n",
            "form: a               argument: _\n",
            "form: good            argument: _\n",
            "form: thing           argument: ARG2\n",
            "form: ?               argument: _\n",
            "form: )               argument: _\n",
            "----------------------------------------\n",
            "form: [SEP]           argument: None\n",
            "form: is              argument: None\n",
            "\n",
            "========================================\n",
            "\n",
            "form: This            argument: _\n",
            "form: BuzzMachine     argument: ARG2\n",
            "form: post            argument: _\n",
            "form: argues          argument: _\n",
            "form: that            argument: _\n",
            "form: Google          argument: _\n",
            "form: 's              argument: _\n",
            "form: rush            argument: _\n",
            "form: toward          argument: _\n",
            "form: ubiquity        argument: _\n",
            "form: might           argument: _\n",
            "form: backfire        argument: _\n",
            "form: --              argument: _\n",
            "form: which           argument: _\n",
            "form: we              argument: _\n",
            "form: 've             argument: _\n",
            "form: all             argument: _\n",
            "form: heard           argument: _\n",
            "form: before          argument: _\n",
            "form: ,               argument: _\n",
            "form: but             argument: _\n",
            "form: it              argument: _\n",
            "form: 's              argument: _\n",
            "form: particularly    argument: _\n",
            "form: well            argument: _\n",
            "form: -               argument: _\n",
            "form: put             argument: _\n",
            "form: in              argument: _\n",
            "form: this            argument: _\n",
            "form: post            argument: _\n",
            "form: .               argument: _\n",
            "----------------------------------------\n",
            "form: [SEP]           argument: None\n",
            "form: post            argument: None\n",
            "\n",
            "========================================\n",
            "\n",
            "form: This            argument: _\n",
            "form: BuzzMachine     argument: _\n",
            "form: post            argument: ARG0\n",
            "form: argues          argument: _\n",
            "form: that            argument: _\n",
            "form: Google          argument: _\n",
            "form: 's              argument: _\n",
            "form: rush            argument: _\n",
            "form: toward          argument: _\n",
            "form: ubiquity        argument: _\n",
            "form: might           argument: _\n",
            "form: backfire        argument: ARG1\n",
            "form: --              argument: _\n",
            "form: which           argument: _\n",
            "form: we              argument: _\n",
            "form: 've             argument: _\n",
            "form: all             argument: _\n",
            "form: heard           argument: _\n",
            "form: before          argument: _\n",
            "form: ,               argument: _\n",
            "form: but             argument: _\n",
            "form: it              argument: _\n",
            "form: 's              argument: _\n",
            "form: particularly    argument: _\n",
            "form: well            argument: _\n",
            "form: -               argument: _\n",
            "form: put             argument: _\n",
            "form: in              argument: _\n",
            "form: this            argument: _\n",
            "form: post            argument: _\n",
            "form: .               argument: _\n",
            "----------------------------------------\n",
            "form: [SEP]           argument: None\n",
            "form: argues          argument: None\n",
            "\n",
            "========================================\n",
            "\n",
            "form: This            argument: _\n",
            "form: BuzzMachine     argument: _\n",
            "form: post            argument: _\n",
            "form: argues          argument: _\n",
            "form: that            argument: _\n",
            "form: Google          argument: ARG1\n",
            "form: 's              argument: _\n",
            "form: rush            argument: _\n",
            "form: toward          argument: _\n",
            "form: ubiquity        argument: ARG2\n",
            "form: might           argument: _\n",
            "form: backfire        argument: _\n",
            "form: --              argument: _\n",
            "form: which           argument: _\n",
            "form: we              argument: _\n",
            "form: 've             argument: _\n",
            "form: all             argument: _\n",
            "form: heard           argument: _\n",
            "form: before          argument: _\n",
            "form: ,               argument: _\n",
            "form: but             argument: _\n",
            "form: it              argument: _\n",
            "form: 's              argument: _\n",
            "form: particularly    argument: _\n",
            "form: well            argument: _\n",
            "form: -               argument: _\n",
            "form: put             argument: _\n",
            "form: in              argument: _\n",
            "form: this            argument: _\n",
            "form: post            argument: _\n",
            "form: .               argument: _\n",
            "----------------------------------------\n",
            "form: [SEP]           argument: None\n",
            "form: rush            argument: None\n",
            "\n",
            "========================================\n",
            "\n",
            "form: This            argument: _\n",
            "form: BuzzMachine     argument: _\n",
            "form: post            argument: _\n",
            "form: argues          argument: _\n",
            "form: that            argument: _\n",
            "form: Google          argument: _\n",
            "form: 's              argument: _\n",
            "form: rush            argument: ARG1\n",
            "form: toward          argument: _\n",
            "form: ubiquity        argument: _\n",
            "form: might           argument: ARGM-MOD\n",
            "form: backfire        argument: _\n",
            "form: --              argument: _\n",
            "form: which           argument: _\n",
            "form: we              argument: _\n",
            "form: 've             argument: _\n",
            "form: all             argument: _\n",
            "form: heard           argument: ARGM-ADV\n",
            "form: before          argument: _\n",
            "form: ,               argument: _\n",
            "form: but             argument: _\n",
            "form: it              argument: _\n",
            "form: 's              argument: _\n",
            "form: particularly    argument: _\n",
            "form: well            argument: _\n",
            "form: -               argument: _\n",
            "form: put             argument: _\n",
            "form: in              argument: _\n",
            "form: this            argument: _\n",
            "form: post            argument: _\n",
            "form: .               argument: _\n",
            "----------------------------------------\n",
            "form: [SEP]           argument: None\n",
            "form: backfire        argument: None\n",
            "\n",
            "========================================\n",
            "\n",
            "form: This            argument: _\n",
            "form: BuzzMachine     argument: _\n",
            "form: post            argument: _\n",
            "form: argues          argument: _\n",
            "form: that            argument: _\n",
            "form: Google          argument: _\n",
            "form: 's              argument: _\n",
            "form: rush            argument: _\n",
            "form: toward          argument: _\n",
            "form: ubiquity        argument: _\n",
            "form: might           argument: _\n",
            "form: backfire        argument: _\n",
            "form: --              argument: _\n",
            "form: which           argument: _\n",
            "form: we              argument: _\n",
            "form: 've             argument: _\n",
            "form: all             argument: _\n",
            "form: heard           argument: _\n",
            "form: before          argument: _\n",
            "form: ,               argument: _\n",
            "form: but             argument: _\n",
            "form: it              argument: _\n",
            "form: 's              argument: _\n",
            "form: particularly    argument: _\n",
            "form: well            argument: _\n",
            "form: -               argument: _\n",
            "form: put             argument: _\n",
            "form: in              argument: _\n",
            "form: this            argument: _\n",
            "form: post            argument: _\n",
            "form: .               argument: _\n",
            "----------------------------------------\n",
            "form: [SEP]           argument: None\n",
            "form: 've             argument: None\n",
            "\n",
            "========================================\n",
            "\n",
            "form: This            argument: _\n",
            "form: BuzzMachine     argument: _\n",
            "form: post            argument: _\n",
            "form: argues          argument: _\n",
            "form: that            argument: _\n",
            "form: Google          argument: _\n",
            "form: 's              argument: _\n",
            "form: rush            argument: _\n",
            "form: toward          argument: _\n",
            "form: ubiquity        argument: _\n",
            "form: might           argument: _\n",
            "form: backfire        argument: _\n",
            "form: --              argument: _\n",
            "form: which           argument: ARG1\n",
            "form: we              argument: ARG0\n",
            "form: 've             argument: _\n",
            "form: all             argument: ARGM-ADV\n",
            "form: heard           argument: _\n",
            "form: before          argument: ARGM-TMP\n",
            "form: ,               argument: _\n",
            "form: but             argument: _\n",
            "form: it              argument: _\n",
            "form: 's              argument: _\n",
            "form: particularly    argument: _\n",
            "form: well            argument: _\n",
            "form: -               argument: _\n",
            "form: put             argument: _\n",
            "form: in              argument: _\n",
            "form: this            argument: _\n",
            "form: post            argument: _\n",
            "form: .               argument: _\n",
            "----------------------------------------\n",
            "form: [SEP]           argument: None\n",
            "form: heard           argument: None\n",
            "\n",
            "========================================\n",
            "\n",
            "form: This            argument: _\n",
            "form: BuzzMachine     argument: _\n",
            "form: post            argument: _\n",
            "form: argues          argument: _\n",
            "form: that            argument: _\n",
            "form: Google          argument: _\n",
            "form: 's              argument: _\n",
            "form: rush            argument: _\n",
            "form: toward          argument: _\n",
            "form: ubiquity        argument: _\n",
            "form: might           argument: _\n",
            "form: backfire        argument: _\n",
            "form: --              argument: _\n",
            "form: which           argument: _\n",
            "form: we              argument: _\n",
            "form: 've             argument: _\n",
            "form: all             argument: _\n",
            "form: heard           argument: _\n",
            "form: before          argument: _\n",
            "form: ,               argument: _\n",
            "form: but             argument: _\n",
            "form: it              argument: ARG1\n",
            "form: 's              argument: _\n",
            "form: particularly    argument: ARGM-ADV\n",
            "form: well            argument: _\n",
            "form: -               argument: _\n",
            "form: put             argument: ARG2\n",
            "form: in              argument: _\n",
            "form: this            argument: _\n",
            "form: post            argument: ARGM-LOC\n",
            "form: .               argument: _\n",
            "----------------------------------------\n",
            "form: [SEP]           argument: None\n",
            "form: 's              argument: None\n",
            "\n",
            "========================================\n",
            "\n",
            "form: This            argument: _\n",
            "form: BuzzMachine     argument: _\n",
            "form: post            argument: _\n",
            "form: argues          argument: _\n",
            "form: that            argument: _\n",
            "form: Google          argument: _\n",
            "form: 's              argument: _\n",
            "form: rush            argument: _\n",
            "form: toward          argument: _\n",
            "form: ubiquity        argument: _\n",
            "form: might           argument: _\n",
            "form: backfire        argument: _\n",
            "form: --              argument: _\n",
            "form: which           argument: _\n",
            "form: we              argument: _\n",
            "form: 've             argument: _\n",
            "form: all             argument: _\n",
            "form: heard           argument: _\n",
            "form: before          argument: _\n",
            "form: ,               argument: _\n",
            "form: but             argument: _\n",
            "form: it              argument: _\n",
            "form: 's              argument: _\n",
            "form: particularly    argument: _\n",
            "form: well            argument: _\n",
            "form: -               argument: _\n",
            "form: put             argument: _\n",
            "form: in              argument: _\n",
            "form: this            argument: _\n",
            "form: post            argument: _\n",
            "form: .               argument: _\n",
            "----------------------------------------\n",
            "form: [SEP]           argument: None\n",
            "form: post            argument: None\n",
            "\n",
            "========================================\n",
            "\n",
            "form: Google          argument: ARG1\n",
            "form: is              argument: _\n",
            "form: a               argument: _\n",
            "form: nice            argument: _\n",
            "form: search          argument: _\n",
            "form: engine          argument: ARG2\n",
            "form: .               argument: _\n",
            "----------------------------------------\n",
            "form: [SEP]           argument: None\n",
            "form: is              argument: None\n",
            "\n",
            "========================================\n",
            "\n",
            "form: Does            argument: _\n",
            "form: anybody         argument: _\n",
            "form: use             argument: _\n",
            "form: it              argument: _\n",
            "form: for             argument: _\n",
            "form: anything        argument: _\n",
            "form: else            argument: _\n",
            "form: ?               argument: _\n",
            "----------------------------------------\n",
            "form: [SEP]           argument: None\n",
            "form: Does            argument: None\n",
            "\n",
            "========================================\n",
            "\n",
            "form: Does            argument: _\n",
            "form: anybody         argument: ARG0\n",
            "form: use             argument: _\n",
            "form: it              argument: ARG1\n",
            "form: for             argument: _\n",
            "form: anything        argument: ARG2\n",
            "form: else            argument: _\n",
            "form: ?               argument: _\n",
            "----------------------------------------\n",
            "form: [SEP]           argument: None\n",
            "form: use             argument: None\n",
            "\n",
            "========================================\n",
            "\n",
            "form: They            argument: ARG0\n",
            "form: own             argument: _\n",
            "form: blogger         argument: ARG1\n",
            "form: ,               argument: _\n",
            "form: of              argument: ARGM-ADV\n",
            "form: course          argument: _\n",
            "form: .               argument: _\n",
            "----------------------------------------\n",
            "form: [SEP]           argument: None\n",
            "form: own             argument: None\n",
            "\n",
            "========================================\n",
            "\n",
            "form: Is              argument: _\n",
            "form: that            argument: ARG1\n",
            "form: a               argument: _\n",
            "form: money           argument: _\n",
            "form: maker           argument: ARG2\n",
            "form: ?               argument: _\n",
            "----------------------------------------\n",
            "form: [SEP]           argument: None\n",
            "form: Is              argument: None\n",
            "\n",
            "========================================\n",
            "\n",
            "form: I               argument: _\n",
            "form: 'm              argument: _\n",
            "form: staying         argument: _\n",
            "form: away            argument: _\n",
            "form: from            argument: _\n",
            "form: the             argument: _\n",
            "form: stock           argument: _\n",
            "form: .               argument: _\n",
            "----------------------------------------\n",
            "form: [SEP]           argument: None\n",
            "form: 'm              argument: None\n",
            "\n",
            "========================================\n",
            "\n",
            "form: I               argument: ARG1\n",
            "form: 'm              argument: _\n",
            "form: staying         argument: _\n",
            "form: away            argument: ARG3\n",
            "form: from            argument: _\n",
            "form: the             argument: _\n",
            "form: stock           argument: _\n",
            "form: .               argument: _\n",
            "----------------------------------------\n",
            "form: [SEP]           argument: None\n",
            "form: staying         argument: None\n",
            "\n",
            "========================================\n",
            "\n"
          ]
        }
      ],
      "source": [
        "for form, argument in zip(test_data.input_form[:20], test_data.argument[:20]):\n",
        "    for f, a in zip(form, argument):\n",
        "        if f == '[SEP]':\n",
        "            print('-' * 40)\n",
        "        print(f\"form: {f:<15} argument: {a}\")\n",
        "    print('\\n' + '=' * 40 + '\\n')"
      ]
    },
    {
      "cell_type": "markdown",
      "metadata": {
        "id": "LjaHOoSckUoh"
      },
      "source": [
        "## Step 2: Import the BERT model and tokenizer"
      ]
    },
    {
      "cell_type": "markdown",
      "metadata": {},
      "source": [
        "Use HuggingFace's [`AutoTokenizer`](https://huggingface.co/docs/transformers/v4.38.2/en/model_doc/auto#transformers.AutoTokenizer) to construct a DistilBERT tokenizer, which is based on the WordPiece algorithm. "
      ]
    },
    {
      "cell_type": "code",
      "execution_count": null,
      "metadata": {
        "id": "pGoBoaA8kUoh"
      },
      "outputs": [],
      "source": [
        "# Set the model ID to use\n",
        "model_id = \"distilbert-base-uncased\"\n",
        "\n",
        "# Initialize the tokenizer \n",
        "tokenizer = AutoTokenizer.from_pretrained(model_id)\n",
        "\n",
        "# Check the assertion that the tokenizer is an instance of transformers.PreTrainedTokenizerFast \n",
        "assert isinstance(tokenizer, transformers.PreTrainedTokenizerFast)"
      ]
    },
    {
      "cell_type": "markdown",
      "metadata": {
        "id": "acI7hd8KkUoi"
      },
      "source": [
        "Checking the sentence representation"
      ]
    },
    {
      "cell_type": "code",
      "execution_count": 53,
      "metadata": {
        "colab": {
          "base_uri": "https://localhost:8080/"
        },
        "id": "7sshBMP_kUoi",
        "outputId": "9df72ac9-a99f-4887-c387-88cc06e3faa8"
      },
      "outputs": [
        {
          "name": "stdout",
          "output_type": "stream",
          "text": [
            "['What', 'if', 'Google', 'expanded', 'on', 'its', 'search', '-', 'engine', '(', 'and', 'now', 'e-mail', ')', 'wares', 'into', 'a', 'full', '-', 'fledged', 'operating', 'system', '?', '[SEP]', 'expanded']\n"
          ]
        }
      ],
      "source": [
        "example = test_data['input_form'][1]\n",
        "print(example)"
      ]
    },
    {
      "cell_type": "markdown",
      "metadata": {
        "id": "yyR-6JCikUoi"
      },
      "source": [
        "The sentence contains the [SEP] special token followed by the predicate. Therefore, the parameter `add_special_tokens` is set to True so that the index is converted to 102 accordingly and is not treated as another word. \\\n",
        "In addition, the sentence is already split into tokens, to the parameter `is_split_into_words` is also set to True"
      ]
    },
    {
      "cell_type": "code",
      "execution_count": null,
      "metadata": {
        "colab": {
          "base_uri": "https://localhost:8080/"
        },
        "id": "ImsGLQkMkUoi",
        "outputId": "c6297c6c-2cbe-499a-f521-8de4b77ea7d5"
      },
      "outputs": [],
      "source": [
        "tokenizer(example,add_special_tokens=True,is_split_into_words=True)"
      ]
    },
    {
      "cell_type": "code",
      "execution_count": null,
      "metadata": {
        "colab": {
          "base_uri": "https://localhost:8080/"
        },
        "id": "5Wg7_MEckUoi",
        "outputId": "c4457c76-b7e0-4299-b4c5-3a71274fe3cb"
      },
      "outputs": [],
      "source": [
        "tokenized_input = tokenizer(example,add_special_tokens=True,is_split_into_words=True)\n",
        "tokens = tokenizer.convert_ids_to_tokens(tokenized_input[\"input_ids\"])\n",
        "print(tokens)"
      ]
    },
    {
      "cell_type": "markdown",
      "metadata": {
        "id": "iJcd5rKIkUoi"
      },
      "source": [
        "## Tokenizing and preparing input for the model"
      ]
    },
    {
      "cell_type": "markdown",
      "metadata": {
        "id": "Ergy_gI8kUoi"
      },
      "source": [
        "Getting the mapping of all possible arguments across all datasets to a numerical value with the `get_label_mapping` function.\\\n",
        "None value stays as None to be mapped to the special token in the model."
      ]
    },
    {
      "cell_type": "code",
      "execution_count": null,
      "metadata": {
        "id": "01kBZUaZkUoi"
      },
      "outputs": [],
      "source": [
        "label_map = get_label_mapping(train_data, test_data, dev_data)"
      ]
    },
    {
      "cell_type": "code",
      "execution_count": null,
      "metadata": {
        "colab": {
          "base_uri": "https://localhost:8080/"
        },
        "id": "4NG6-s0DkUoi",
        "outputId": "100c7619-30ec-4b19-a7e0-c03e5857a487"
      },
      "outputs": [],
      "source": [
        "print(label_map)"
      ]
    },
    {
      "cell_type": "markdown",
      "metadata": {
        "id": "gnmI8mDBkUoi"
      },
      "source": [
        "Converting the labels in the df to numerical values for the language model with `map_labels_in_dataframe` function. The label_map dictionary from the function above is needed to map the arguments to their value.\\\n",
        "Add a new column to the df matching the arguments to label numbers. 0 stands for '_' (no argument) and the rest of the arguments are alphabetically ordered. \\\n",
        "*None* label will be mapped to the *[SEP]* token.\n"
      ]
    },
    {
      "cell_type": "code",
      "execution_count": null,
      "metadata": {
        "id": "KCuAQ_l0kUoj"
      },
      "outputs": [],
      "source": [
        "train_data = map_labels_in_dataframe(train_data,label_map)\n",
        "dev_data = map_labels_in_dataframe(dev_data,label_map)\n",
        "test_data = map_labels_in_dataframe(test_data,label_map)"
      ]
    },
    {
      "cell_type": "markdown",
      "metadata": {
        "id": "cyXubrzukUoj"
      },
      "source": [
        "Checking the head to confirm the labels were correctly converted:"
      ]
    },
    {
      "cell_type": "code",
      "execution_count": null,
      "metadata": {
        "colab": {
          "base_uri": "https://localhost:8080/",
          "height": 206
        },
        "id": "1Kdo09m2kUoj",
        "outputId": "214847c9-36ba-400f-b91b-58a258553788"
      },
      "outputs": [],
      "source": [
        "test_data.head()"
      ]
    },
    {
      "cell_type": "markdown",
      "metadata": {
        "id": "mLQrg5KhkUoj"
      },
      "source": [
        "Use `tokenize_and_align_labels` function to tokenize train, test, and dev dataframe. Padding is applied to make sure all input is the same length for the model."
      ]
    },
    {
      "cell_type": "code",
      "execution_count": null,
      "metadata": {
        "id": "zswrLWMWkUoj"
      },
      "outputs": [],
      "source": [
        "tokenized_test = tokenize_and_align_labels(tokenizer, test_data, label_all_tokens=True)\n",
        "tokenized_train = tokenize_and_align_labels(tokenizer, train_data, label_all_tokens=True)\n",
        "tokenized_dev = tokenize_and_align_labels(tokenizer, dev_data, label_all_tokens=True)"
      ]
    },
    {
      "cell_type": "markdown",
      "metadata": {
        "id": "ilTVwpHikUoj"
      },
      "source": [
        "The input for the model has the corresponding special token [CLS] followed by the tokenized sentence, the special token [SEP], the predicate and the final [SEP] token. \\\n",
        "The numerical labels to be fed to the model correspond to the tokenized sentence.\\\n",
        "The input is padded so that every vector is of the same length, including the labels and the attention mask."
      ]
    },
    {
      "cell_type": "code",
      "execution_count": null,
      "metadata": {
        "colab": {
          "base_uri": "https://localhost:8080/"
        },
        "id": "cHZ-bA_YkUoj",
        "outputId": "b213bb1f-7bdb-4aa3-8c33-f404e8f4e808"
      },
      "outputs": [],
      "source": [
        "print(tokenizer.convert_ids_to_tokens(tokenized_test[\"input_ids\"][0]))\n",
        "print(tokenized_test[\"attention_mask\"][0])\n",
        "print(tokenized_test[\"input_ids\"][0])\n",
        "print(tokenized_test[\"labels\"][0])"
      ]
    },
    {
      "cell_type": "markdown",
      "metadata": {
        "id": "9sE82NbRkUoj"
      },
      "source": [
        "Confirming all the tokens contain a label and the attention mask also matches the length of the input"
      ]
    },
    {
      "cell_type": "code",
      "execution_count": null,
      "metadata": {
        "colab": {
          "base_uri": "https://localhost:8080/"
        },
        "id": "yRDQ0HDFkUoj",
        "outputId": "e5659bed-af73-4244-8fcd-f48994989f79"
      },
      "outputs": [],
      "source": [
        "print(len(tokenized_test[\"input_ids\"][0]),len(tokenized_test[\"labels\"][0]),len(tokenized_test[\"attention_mask\"][0]))"
      ]
    },
    {
      "cell_type": "markdown",
      "metadata": {
        "id": "5CUO9JB9kUoj"
      },
      "source": [
        "Converting the tokenized data to datasets format with the function `load_dataset`"
      ]
    },
    {
      "cell_type": "code",
      "execution_count": null,
      "metadata": {
        "id": "A0qvLaa1kUoj"
      },
      "outputs": [],
      "source": [
        "dataset_train = load_dataset(tokenized_train)\n",
        "dataset_dev = load_dataset(tokenized_dev)\n",
        "dataset_test = load_dataset(tokenized_test)"
      ]
    },
    {
      "cell_type": "markdown",
      "metadata": {
        "id": "eg-Ku9KCkUok"
      },
      "source": [
        "## Fine-tuning the model"
      ]
    },
    {
      "cell_type": "markdown",
      "metadata": {
        "id": "9OiJgg86kUok"
      },
      "source": [
        "Reducing the size of the dataset for a mini test"
      ]
    },
    {
      "cell_type": "code",
      "execution_count": null,
      "metadata": {
        "id": "J1L3vUjBkUok"
      },
      "outputs": [],
      "source": [
        "small_train_dataset = dataset_train.shuffle(seed=42).select(range(1000))\n",
        "small_eval_dataset = dataset_dev.shuffle(seed=42).select(range(1000))\n",
        "small_test_dataset = dataset_test.shuffle(seed=42).select(range(1000))"
      ]
    },
    {
      "cell_type": "markdown",
      "metadata": {
        "id": "f0tUEUrrkUok"
      },
      "source": [
        "Getting the labels that will be predicted by the model with the `get_labels_from_map`function"
      ]
    },
    {
      "cell_type": "code",
      "execution_count": null,
      "metadata": {
        "id": "zeczaSQlkUok"
      },
      "outputs": [],
      "source": [
        "label_list = get_labels_from_map(label_map)"
      ]
    },
    {
      "cell_type": "markdown",
      "metadata": {
        "id": "XPthsO7KkUoq"
      },
      "source": [
        "Loading the model for semantic role labelling task with function `load_srl_model` to get the model, its name and the arguments necessary for training. \\\n",
        "The model selected is **distilbert-base-uncased**"
      ]
    },
    {
      "cell_type": "code",
      "execution_count": null,
      "metadata": {
        "colab": {
          "base_uri": "https://localhost:8080/"
        },
        "id": "NOKg-GaWkUoq",
        "outputId": "745e5d98-6ef6-44ec-ece8-9c0ed6d34f9e"
      },
      "outputs": [],
      "source": [
        "model, model_name, args = load_srl_model(model_id, label_list)"
      ]
    },
    {
      "cell_type": "code",
      "execution_count": null,
      "metadata": {
        "colab": {
          "base_uri": "https://localhost:8080/"
        },
        "id": "eXeP6WL1kUoq",
        "outputId": "4cceea5f-b691-4649-8556-baf1e3f016e9"
      },
      "outputs": [],
      "source": [
        "print(model_name)"
      ]
    },
    {
      "cell_type": "markdown",
      "metadata": {
        "id": "mXNIkoswkUoq"
      },
      "source": [
        "Load the seqeval metric to compute the metrics from the predictions"
      ]
    },
    {
      "cell_type": "code",
      "execution_count": null,
      "metadata": {
        "colab": {
          "base_uri": "https://localhost:8080/"
        },
        "id": "bC6m2vTEkUoq",
        "outputId": "fb0b6522-be1e-4871-934b-41e1bf037f0a"
      },
      "outputs": [],
      "source": [
        "metric = load_metric(\"seqeval\")"
      ]
    },
    {
      "cell_type": "markdown",
      "metadata": {
        "id": "Inp5veTjkUoq"
      },
      "source": [
        "metric.compute(predictions=[label_list], references=[label_list])"
      ]
    },
    {
      "cell_type": "markdown",
      "metadata": {
        "id": "PNdiQl3RkUoq"
      },
      "source": [
        "Passing the arguments along with the datasets to the `trainer` function to fine-tune the model for semantic role labelling with `trainer.train()`"
      ]
    },
    {
      "cell_type": "code",
      "execution_count": null,
      "metadata": {
        "colab": {
          "base_uri": "https://localhost:8080/",
          "height": 1000
        },
        "id": "k9xwibdUkUoq",
        "outputId": "122d5196-6924-4259-ddd6-1477dcfb21b5"
      },
      "outputs": [],
      "source": [
        "trainer = Trainer(\n",
        "        model,\n",
        "        args,\n",
        "        train_dataset=dataset_train,\n",
        "        eval_dataset=dataset_dev,\n",
        "        tokenizer=tokenizer,\n",
        "        compute_metrics=lambda p: compute_metrics(*p, label_list, metric)\n",
        "    )\n",
        "trainer.train()"
      ]
    },
    {
      "cell_type": "markdown",
      "metadata": {
        "id": "sHnFT6e9kUoq"
      },
      "source": [
        "Evaluate a model fine-tuned for semantic role labelling with `trainer.evaluate()`"
      ]
    },
    {
      "cell_type": "code",
      "execution_count": null,
      "metadata": {
        "colab": {
          "base_uri": "https://localhost:8080/",
          "height": 198
        },
        "id": "2TVKW8rokUor",
        "outputId": "eaa16b96-366f-429d-91df-712d0da01531"
      },
      "outputs": [],
      "source": [
        "trainer.evaluate()"
      ]
    },
    {
      "cell_type": "markdown",
      "metadata": {
        "id": "4GqcKCCYkUor"
      },
      "source": [
        "After training is finished, the precision/recall/f1 for each category can be computed. \\\n",
        "The same function `compute_metrics` is applied on the result of the predict method."
      ]
    },
    {
      "cell_type": "code",
      "execution_count": null,
      "metadata": {
        "colab": {
          "base_uri": "https://localhost:8080/",
          "height": 287
        },
        "id": "vFCI1xe3kUor",
        "outputId": "1d022d82-3acb-44e2-d875-6b67cee0a649"
      },
      "outputs": [],
      "source": [
        "predictions, labels, _ = trainer.predict(dataset_test)\n",
        "results = compute_metrics(predictions, labels, label_list, metric)\n",
        "results"
      ]
    },
    {
      "cell_type": "markdown",
      "metadata": {
        "id": "w1WMX0JIkUor"
      },
      "source": [
        "Writing the predictions together with the gold labels to a csv file with the function `write_predictions_to_csv` so that the metrics per class can be computed with the `compute_evaluation_metrics_from_csv` function."
      ]
    },
    {
      "cell_type": "code",
      "execution_count": null,
      "metadata": {
        "colab": {
          "base_uri": "https://localhost:8080/"
        },
        "id": "TGTNN01wkUor",
        "outputId": "2538512d-2ad9-4eef-eeb4-e1ddb2d5a50d"
      },
      "outputs": [],
      "source": [
        "results_file = \"predictions.csv\"\n",
        "write_predictions_to_csv(predictions, labels, label_list, results_file)\n",
        "f1,classification_report = compute_evaluation_metrics_from_csv(\"predictions.csv\")\n",
        "print(classification_report)"
      ]
    },
    {
      "cell_type": "markdown",
      "metadata": {
        "id": "WbOXCSKFFPk2"
      },
      "source": [
        "Then, we save fine-tuned model."
      ]
    },
    {
      "cell_type": "code",
      "execution_count": null,
      "metadata": {
        "id": "GaKRHV59kUor"
      },
      "outputs": [],
      "source": [
        "# Use these codes to save model:\n",
        "tokenizer.save_pretrained(\"tokenizer.save_pretrained.distillbert-base-uncased-finetuned-srl\")\n",
        "trainer.save_model(\"trainer.save_model.distillbert-base-uncased-finetuned-srl\")\n",
        "model.save_pretrained(\"model.save_pretrained.distillbert-base-uncased-finetuned-srl\")\n"
      ]
    },
    {
      "cell_type": "markdown",
      "metadata": {
        "id": "vKLvKTjXFUD6"
      },
      "source": [
        "Here, we copy saved model to google drive."
      ]
    },
    {
      "cell_type": "code",
      "execution_count": null,
      "metadata": {
        "id": "7Nb_gxIdp1jN"
      },
      "outputs": [],
      "source": [
        "!cp -r '/content/trainer.save_model.distillbert-base-uncased-finetuned-srl' '/content/drive/MyDrive/NLP_3_baseline_model/model'\n",
        "!cp -r '/content/model.save_pretrained.distillbert-base-uncased-finetuned-srl' '/content/drive/MyDrive/NLP_3_baseline_model/model'\n",
        "!cp -r '/content/tokenizer.save_pretrained.distillbert-base-uncased-finetuned-srl' '/content/drive/MyDrive/NLP_3_baseline_model/model'"
      ]
    }
  ],
  "metadata": {
    "accelerator": "GPU",
    "colab": {
      "gpuType": "T4",
      "provenance": []
    },
    "kernelspec": {
      "display_name": "Python 3 (ipykernel)",
      "language": "python",
      "name": "python3"
    },
    "language_info": {
      "codemirror_mode": {
        "name": "ipython",
        "version": 3
      },
      "file_extension": ".py",
      "mimetype": "text/x-python",
      "name": "python",
      "nbconvert_exporter": "python",
      "pygments_lexer": "ipython3",
      "version": "3.11.4"
    }
  },
  "nbformat": 4,
  "nbformat_minor": 0
}
